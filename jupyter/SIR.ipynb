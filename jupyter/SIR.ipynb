{
 "cells": [
  {
   "cell_type": "markdown",
   "metadata": {},
   "source": [
    "<h1>Unit (and intuition) test for SIR model from ODE_Dynamics.py</h1>\n",
    "\n",
    "<p>&nbsp;</p>\n",
    "\n",
    "<p>Here&#39;s a basic SIR model</p>\n",
    "\n",
    "<p>&nbsp;</p>\n"
   ]
  },
  {
   "cell_type": "code",
   "execution_count": 1,
   "metadata": {},
   "outputs": [],
   "source": [
    "import tensorflow as tf\n",
    "import numpy as np\n",
    "import tensorflow_probability as tfp\n",
    "import sys\n",
    "sys.path.append(\"..\")\n",
    "import ODE_Dynamics as od"
   ]
  },
  {
   "cell_type": "code",
   "execution_count": 2,
   "metadata": {},
   "outputs": [],
   "source": [
    "par=tf.constant(np.array([[1.8, 5.0E-08,0.1]], dtype=np.float32))\n",
    "mod = od.SIR(par)\n",
    "init_state=tf.constant(np.array([[0.001,0.999]], dtype=np.float32))\n",
    "init_time=tf.constant(0.0)\n",
    "soln_times=tf.constant(np.linspace(0.0,150.0,num=150,dtype=np.float32))"
   ]
  },
  {
   "cell_type": "code",
   "execution_count": 14,
   "metadata": {},
   "outputs": [
    {
     "name": "stdout",
     "output_type": "stream",
     "text": [
      "[[[0.001      0.999     ]]\n",
      "\n",
      " [[0.00108366 0.99881136]]\n",
      "\n",
      " [[0.00117427 0.99860734]]\n",
      "\n",
      " [[0.00127242 0.9983861 ]]\n",
      "\n",
      " [[0.00137871 0.99814636]]\n",
      "\n",
      " [[0.00149379 0.9978868 ]]\n",
      "\n",
      " [[0.00161839 0.99760556]]\n",
      "\n",
      " [[0.0017533  0.99730104]]\n",
      "\n",
      " [[0.00189936 0.99697113]]\n",
      "\n",
      " [[0.00205748 0.99661386]]]\n"
     ]
    }
   ],
   "source": [
    "dp = tfp.math.ode.DormandPrince()\n",
    "results = dp.solve(mod.RHS, init_time, init_state, solution_times=soln_times)\n",
    "#print(results.diagnostics)\n",
    "#print(results.states)\n",
    "data_lookback = results.states[0:10, 0:10]\n",
    "data_lookback\n",
    "print(data_lookback.numpy())"
   ]
  },
  {
   "cell_type": "code",
   "execution_count": 6,
   "metadata": {},
   "outputs": [
    {
     "data": {
      "text/plain": [
       "[<matplotlib.lines.Line2D at 0x7f6e4a9addd8>,\n",
       " <matplotlib.lines.Line2D at 0x7f6e4a9adef0>,\n",
       " <matplotlib.lines.Line2D at 0x7f6e4a9b8080>]"
      ]
     },
     "execution_count": 6,
     "metadata": {},
     "output_type": "execute_result"
    },
    {
     "data": {
      "image/png": "[encoded data removed]",
      "text/plain": [
       "<Figure size 432x288 with 1 Axes>"
      ]
     },
     "metadata": {
      "needs_background": "light"
     },
     "output_type": "display_data"
    }
   ],
   "source": [
    "%matplotlib inline\n",
    "import matplotlib.pyplot as plt\n",
    "t = results.times ; i = results.states[:,0,0] ; s = results.states[:,0,1] ; r = 1.0 - i - s\n",
    "plt.plot(t, i,\"r-\", t, s, \"b-\", t, r, \"g-\")"
   ]
  },
  {
   "cell_type": "markdown",
   "metadata": {},
   "source": [
    "Integrating \"backwards\" gives garbage, because the set of states corresponding to an initial state [0,1] is measure-zero:"
   ]
  },
  {
   "cell_type": "code",
   "execution_count": 5,
   "metadata": {},
   "outputs": [],
   "source": [
    "init_time = 100\n",
    "soln_times = np.linspace(102.0, 0.0, 52)\n",
    "soln_times = tf.constant(soln_times)\n",
    "init_state = np.array([[i.numpy()[49], s.numpy()[49]]])\n",
    "init_state = tf.constant(init_state)\n",
    "results2 = dp.solve(mod.RHS, init_time, init_state, solution_times=soln_times)"
   ]
  },
  {
   "cell_type": "code",
   "execution_count": 17,
   "metadata": {},
   "outputs": [
    {
     "ename": "NameError",
     "evalue": "name 'results2' is not defined",
     "output_type": "error",
     "traceback": [
      "\u001b[0;31m---------------------------------------------------------------------------\u001b[0m",
      "\u001b[0;31mNameError\u001b[0m                                 Traceback (most recent call last)",
      "\u001b[0;32m<ipython-input-17-f64aac171bd3>\u001b[0m in \u001b[0;36m<module>\u001b[0;34m\u001b[0m\n\u001b[0;32m----> 1\u001b[0;31m \u001b[0mt2\u001b[0m \u001b[0;34m=\u001b[0m \u001b[0mresults2\u001b[0m\u001b[0;34m.\u001b[0m\u001b[0mtimes\u001b[0m \u001b[0;34m;\u001b[0m \u001b[0mi2\u001b[0m \u001b[0;34m=\u001b[0m \u001b[0mresults2\u001b[0m\u001b[0;34m.\u001b[0m\u001b[0mstates\u001b[0m\u001b[0;34m[\u001b[0m\u001b[0;34m:\u001b[0m\u001b[0;34m,\u001b[0m\u001b[0;36m0\u001b[0m\u001b[0;34m,\u001b[0m\u001b[0;36m0\u001b[0m\u001b[0;34m]\u001b[0m \u001b[0;34m;\u001b[0m \u001b[0ms2\u001b[0m \u001b[0;34m=\u001b[0m \u001b[0mresults2\u001b[0m\u001b[0;34m.\u001b[0m\u001b[0mstates\u001b[0m\u001b[0;34m[\u001b[0m\u001b[0;34m:\u001b[0m\u001b[0;34m,\u001b[0m\u001b[0;36m0\u001b[0m\u001b[0;34m,\u001b[0m\u001b[0;36m1\u001b[0m\u001b[0;34m]\u001b[0m \u001b[0;34m;\u001b[0m \u001b[0mr2\u001b[0m \u001b[0;34m=\u001b[0m \u001b[0;36m1.0\u001b[0m \u001b[0;34m-\u001b[0m \u001b[0mi2\u001b[0m \u001b[0;34m-\u001b[0m \u001b[0ms2\u001b[0m\u001b[0;34m\u001b[0m\u001b[0;34m\u001b[0m\u001b[0m\n\u001b[0m\u001b[1;32m      2\u001b[0m \u001b[0mplt\u001b[0m\u001b[0;34m.\u001b[0m\u001b[0mplot\u001b[0m\u001b[0;34m(\u001b[0m\u001b[0mt2\u001b[0m\u001b[0;34m,\u001b[0m \u001b[0mi2\u001b[0m\u001b[0;34m,\u001b[0m\u001b[0;34m\"r-\"\u001b[0m\u001b[0;34m,\u001b[0m \u001b[0mt2\u001b[0m\u001b[0;34m,\u001b[0m \u001b[0ms2\u001b[0m\u001b[0;34m,\u001b[0m \u001b[0;34m\"b-\"\u001b[0m\u001b[0;34m,\u001b[0m \u001b[0mt2\u001b[0m\u001b[0;34m,\u001b[0m \u001b[0mr2\u001b[0m\u001b[0;34m,\u001b[0m \u001b[0;34m\"g-\"\u001b[0m\u001b[0;34m)\u001b[0m\u001b[0;34m\u001b[0m\u001b[0;34m\u001b[0m\u001b[0m\n",
      "\u001b[0;31mNameError\u001b[0m: name 'results2' is not defined"
     ]
    }
   ],
   "source": [
    "t2 = results2.times ; i2 = results2.states[:,0,0] ; s2 = results2.states[:,0,1] ; r2 = 1.0 - i2 - s2\n",
    "plt.plot(t2, i2,\"r-\", t2, s2, \"b-\", t2, r2, \"g-\")"
   ]
  },
  {
   "cell_type": "code",
   "execution_count": 22,
   "metadata": {},
   "outputs": [
    {
     "ename": "TypeError",
     "evalue": "list indices must be integers or slices, not list",
     "output_type": "error",
     "traceback": [
      "\u001b[0;31m---------------------------------------------------------------------------\u001b[0m",
      "\u001b[0;31mTypeError\u001b[0m                                 Traceback (most recent call last)",
      "\u001b[0;32m<ipython-input-22-81e0c7ed4bdc>\u001b[0m in \u001b[0;36m<module>\u001b[0;34m\u001b[0m\n\u001b[1;32m      1\u001b[0m [[[0.001,0.999]]\n\u001b[0;32m----> 2\u001b[0;31m  \u001b[0;34m[\u001b[0m\u001b[0;34m[\u001b[0m\u001b[0;36m0.00108366\u001b[0m\u001b[0;34m,\u001b[0m \u001b[0;36m0.99881136\u001b[0m\u001b[0;34m]\u001b[0m\u001b[0;34m]\u001b[0m\u001b[0;34m\u001b[0m\u001b[0;34m\u001b[0m\u001b[0m\n\u001b[0m\u001b[1;32m      3\u001b[0m  \u001b[0;34m[\u001b[0m\u001b[0;34m[\u001b[0m\u001b[0;36m0.00117427\u001b[0m\u001b[0;34m,\u001b[0m\u001b[0;36m0.99860734\u001b[0m\u001b[0;34m]\u001b[0m\u001b[0;34m]\u001b[0m\u001b[0;34m\u001b[0m\u001b[0;34m\u001b[0m\u001b[0m\n\u001b[1;32m      4\u001b[0m  \u001b[0;34m[\u001b[0m\u001b[0;34m[\u001b[0m\u001b[0;36m0.00127242\u001b[0m\u001b[0;34m,\u001b[0m\u001b[0;36m0.9983861\u001b[0m \u001b[0;34m]\u001b[0m\u001b[0;34m]\u001b[0m\u001b[0;34m\u001b[0m\u001b[0;34m\u001b[0m\u001b[0m\n\u001b[1;32m      5\u001b[0m  \u001b[0;34m[\u001b[0m\u001b[0;34m[\u001b[0m\u001b[0;36m0.00137871\u001b[0m\u001b[0;34m,\u001b[0m\u001b[0;36m0.99814636\u001b[0m\u001b[0;34m]\u001b[0m\u001b[0;34m]\u001b[0m\u001b[0;34m\u001b[0m\u001b[0;34m\u001b[0m\u001b[0m\n",
      "\u001b[0;31mTypeError\u001b[0m: list indices must be integers or slices, not list"
     ]
    }
   ],
   "source": [
    "[[[0.001,0.999]]\n",
    " [[0.00108366, 0.99881136]]\n",
    " [[0.00117427,0.99860734]]\n",
    " [[0.00127242,0.9983861 ]]\n",
    " [[0.00137871,0.99814636]]\n",
    " [[0.00149379,0.9978868 ]]\n",
    " [[0.00161839,0.99760556]]\n",
    " [[0.0017533,0.99730104]]\n",
    " [[0.00189936,0.99697113]]\n",
    " [[0.00205748,0.99661386]]]"
   ]
  },
  {
   "cell_type": "code",
   "execution_count": null,
   "metadata": {},
   "outputs": [],
   "source": []
  }
 ],
 "metadata": {
  "kernelspec": {
   "display_name": "Python 3",
   "language": "python",
   "name": "python3"
  },
  "language_info": {
   "codemirror_mode": {
    "name": "ipython",
    "version": 3
   },
   "file_extension": ".py",
   "mimetype": "text/x-python",
   "name": "python",
   "nbconvert_exporter": "python",
   "pygments_lexer": "ipython3",
   "version": "3.7.4"
  },
  "latex_envs": {
   "LaTeX_envs_menu_present": true,
   "autoclose": false,
   "autocomplete": true,
   "bibliofile": "biblio.bib",
   "cite_by": "apalike",
   "current_citInitial": 1,
   "eqLabelWithNumbers": true,
   "eqNumInitial": 1,
   "hotkeys": {
    "equation": "Ctrl-E",
    "itemize": "Ctrl-I"
   },
   "labels_anchors": false,
   "latex_user_defs": false,
   "report_style_numbering": false,
   "user_envs_cfg": false
  }
 },
 "nbformat": 4,
 "nbformat_minor": 2
}
