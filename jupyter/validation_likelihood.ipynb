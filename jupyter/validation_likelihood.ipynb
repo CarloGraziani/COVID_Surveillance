{
 "cells": [
  {
   "cell_type": "code",
   "execution_count": 31,
   "metadata": {},
   "outputs": [],
   "source": [
    "import tensorflow as tf\n",
    "import numpy as np\n",
    "import tensorflow_probability as tfp\n",
    "import sys\n",
    "import scipy.io\n",
    "sys.path.append(\"..\")\n",
    "import ODE_Dynamics as od\n",
    "import Test_Likelihood as tl\n",
    "import Positive_Symptom_fn as fn\n",
    "import simulation as sim"
   ]
  },
  {
   "cell_type": "code",
   "execution_count": 32,
   "metadata": {},
   "outputs": [
    {
     "name": "stdout",
     "output_type": "stream",
     "text": [
      "21\n",
      "22\n",
      "23\n",
      "24\n",
      "25\n",
      "26\n",
      "27\n",
      "28\n",
      "29\n",
      "30\n",
      "31\n",
      "32\n",
      "33\n",
      "34\n",
      "35\n",
      "36\n",
      "37\n",
      "38\n",
      "39\n",
      "40\n",
      "41\n",
      "42\n",
      "43\n",
      "44\n",
      "45\n",
      "46\n",
      "47\n",
      "48\n",
      "49\n",
      "50\n",
      "51\n",
      "52\n",
      "53\n",
      "54\n",
      "55\n",
      "56\n",
      "57\n",
      "58\n",
      "59\n",
      "60\n",
      "61\n",
      "62\n",
      "63\n",
      "64\n",
      "65\n",
      "66\n",
      "67\n",
      "68\n",
      "69\n",
      "70\n",
      "71\n",
      "72\n",
      "73\n",
      "74\n",
      "75\n",
      "76\n",
      "77\n",
      "78\n",
      "79\n",
      "80\n",
      "81\n",
      "82\n",
      "83\n",
      "84\n",
      "85\n",
      "86\n",
      "87\n",
      "88\n",
      "89\n",
      "90\n",
      "91\n",
      "92\n",
      "93\n",
      "94\n",
      "95\n",
      "96\n",
      "97\n",
      "98\n",
      "99\n",
      "100\n",
      "101\n",
      "102\n",
      "103\n",
      "104\n",
      "105\n",
      "106\n",
      "107\n",
      "108\n",
      "109\n",
      "110\n",
      "111\n",
      "112\n",
      "113\n",
      "114\n",
      "115\n",
      "116\n",
      "117\n",
      "118\n",
      "119\n",
      "120\n",
      "121\n",
      "122\n",
      "123\n",
      "124\n",
      "125\n",
      "126\n",
      "127\n",
      "128\n",
      "129\n",
      "130\n",
      "131\n",
      "132\n",
      "133\n",
      "134\n",
      "135\n",
      "136\n",
      "137\n",
      "138\n",
      "139\n",
      "140\n",
      "141\n",
      "142\n",
      "143\n",
      "144\n",
      "145\n",
      "146\n",
      "147\n",
      "148\n",
      "149\n",
      "150\n",
      "151\n",
      "152\n",
      "153\n",
      "154\n",
      "155\n",
      "156\n",
      "157\n",
      "158\n",
      "159\n",
      "160\n"
     ]
    }
   ],
   "source": [
    "vload = sim.sample_viral_load()\n",
    "prob_s_i0 = 0.55; prob_s_ibar0 = 0.1; v_threshold0 = 170306.4 * 1E-05\n",
    "start_day0 = 20\n",
    "data = sim.simulate_epidemic(vload, start_day = start_day0,\n",
    "                             prob_s_i = prob_s_i0, prob_s_ibar = prob_s_ibar0, \n",
    "                             v_threshold = v_threshold0)\n"
   ]
  },
  {
   "cell_type": "code",
   "execution_count": 33,
   "metadata": {},
   "outputs": [
    {
     "name": "stdout",
     "output_type": "stream",
     "text": [
      "tf.Tensor(\n",
      "[[  21. 1000.   25.]\n",
      " [  22.  992.   32.]\n",
      " [  23. 1014.   26.]\n",
      " [  24. 1041.   30.]\n",
      " [  25.  995.   35.]\n",
      " [  26. 1026.   45.]\n",
      " [  27.  995.   43.]\n",
      " [  28. 1054.   46.]\n",
      " [  29.  927.   49.]\n",
      " [  30. 1039.   45.]\n",
      " [  31. 1062.   52.]\n",
      " [  32. 1053.   61.]\n",
      " [  33. 1121.   74.]\n",
      " [  34. 1125.   79.]\n",
      " [  35. 1100.   73.]\n",
      " [  36. 1036.   92.]\n",
      " [  37. 1080.  101.]\n",
      " [  38. 1041.   96.]\n",
      " [  39. 1075.  111.]\n",
      " [  40. 1057.  107.]\n",
      " [  41. 1128.  133.]\n",
      " [  42. 1079.  133.]\n",
      " [  43. 1126.  147.]\n",
      " [  44. 1154.  142.]\n",
      " [  45. 1054.  169.]\n",
      " [  46. 1143.  171.]\n",
      " [  47. 1100.  185.]\n",
      " [  48. 1088.  193.]\n",
      " [  49. 1133.  202.]\n",
      " [  50. 1157.  214.]\n",
      " [  51. 1141.  217.]\n",
      " [  52. 1140.  221.]\n",
      " [  53. 1208.  279.]\n",
      " [  54. 1196.  286.]\n",
      " [  55. 1249.  290.]\n",
      " [  56. 1203.  318.]\n",
      " [  57. 1217.  313.]\n",
      " [  58. 1239.  337.]\n",
      " [  59. 1160.  356.]\n",
      " [  60. 1241.  392.]\n",
      " [  61. 1241.  383.]\n",
      " [  62. 1268.  417.]\n",
      " [  63. 1277.  455.]\n",
      " [  64. 1302.  428.]\n",
      " [  65. 1332.  469.]\n",
      " [  66. 1341.  482.]\n",
      " [  67. 1399.  515.]\n",
      " [  68. 1375.  505.]\n",
      " [  69. 1396.  523.]\n",
      " [  70. 1413.  558.]\n",
      " [  71. 1409.  549.]\n",
      " [  72. 1368.  559.]\n",
      " [  73. 1414.  580.]\n",
      " [  74. 1449.  606.]\n",
      " [  75. 1426.  590.]\n",
      " [  76. 1470.  603.]\n",
      " [  77. 1404.  604.]\n",
      " [  78. 1455.  615.]\n",
      " [  79. 1503.  607.]\n",
      " [  80. 1450.  619.]\n",
      " [  81. 1454.  601.]\n",
      " [  82. 1449.  643.]\n",
      " [  83. 1468.  613.]\n",
      " [  84. 1524.  634.]\n",
      " [  85. 1467.  613.]\n",
      " [  86. 1471.  592.]\n",
      " [  87. 1430.  609.]\n",
      " [  88. 1477.  578.]\n",
      " [  89. 1368.  569.]\n",
      " [  90. 1388.  575.]\n",
      " [  91. 1435.  561.]\n",
      " [  92. 1365.  552.]\n",
      " [  93. 1362.  545.]\n",
      " [  94. 1364.  539.]\n",
      " [  95. 1396.  521.]\n",
      " [  96. 1331.  498.]\n",
      " [  97. 1349.  471.]\n",
      " [  98. 1335.  466.]\n",
      " [  99. 1283.  468.]\n",
      " [ 100. 1296.  451.]\n",
      " [ 101. 1255.  389.]\n",
      " [ 102. 1229.  402.]\n",
      " [ 103. 1259.  395.]\n",
      " [ 104. 1276.  383.]\n",
      " [ 105. 1222.  362.]\n",
      " [ 106. 1230.  375.]\n",
      " [ 107. 1201.  327.]\n",
      " [ 108. 1248.  330.]\n",
      " [ 109. 1243.  327.]\n",
      " [ 110. 1181.  323.]\n",
      " [ 111. 1183.  306.]\n",
      " [ 112. 1142.  310.]\n",
      " [ 113. 1154.  281.]\n",
      " [ 114. 1153.  267.]\n",
      " [ 115. 1153.  267.]\n",
      " [ 116. 1130.  246.]\n",
      " [ 117. 1100.  239.]\n",
      " [ 118. 1152.  224.]\n",
      " [ 119. 1098.  214.]\n",
      " [ 120. 1111.  212.]\n",
      " [ 121. 1112.  202.]\n",
      " [ 122. 1140.  187.]\n",
      " [ 123. 1119.  168.]\n",
      " [ 124. 1036.  166.]\n",
      " [ 125. 1097.  150.]\n",
      " [ 126. 1092.  145.]\n",
      " [ 127. 1062.  152.]\n",
      " [ 128. 1038.  134.]\n",
      " [ 129. 1034.  112.]\n",
      " [ 130. 1019.  124.]\n",
      " [ 131. 1038.  112.]\n",
      " [ 132. 1078.  126.]\n",
      " [ 133. 1014.  105.]\n",
      " [ 134.  973.  104.]\n",
      " [ 135.  994.   99.]\n",
      " [ 136. 1045.  103.]\n",
      " [ 137. 1073.  104.]\n",
      " [ 138. 1006.   92.]\n",
      " [ 139. 1009.   88.]\n",
      " [ 140. 1007.   83.]\n",
      " [ 141. 1024.   65.]\n",
      " [ 142.  952.   67.]\n",
      " [ 143.  972.   70.]\n",
      " [ 144.  988.   61.]\n",
      " [ 145.  961.   52.]\n",
      " [ 146.  954.   54.]\n",
      " [ 147.  945.   49.]\n",
      " [ 148. 1026.   58.]\n",
      " [ 149.  978.   49.]\n",
      " [ 150. 1039.   46.]\n",
      " [ 151.  963.   51.]\n",
      " [ 152.  985.   47.]\n",
      " [ 153.  961.   41.]\n",
      " [ 154.  934.   45.]\n",
      " [ 155. 1008.   40.]\n",
      " [ 156.  920.   37.]\n",
      " [ 157.  923.   27.]\n",
      " [ 158.  981.   31.]\n",
      " [ 159.  970.   30.]\n",
      " [ 160.  987.   31.]], shape=(140, 3), dtype=float32)\n"
     ]
    }
   ],
   "source": [
    "days = [float(i) + start_day0 + 1 for i in list(range(len(data)))]\n",
    "tests = data[:,0]\n",
    "positives = data[:,1]\n",
    "test_data = np.column_stack((days, tests, positives))\n",
    "test_data = tf.cast(test_data, dtype = tf.float32)\n",
    "print(test_data)"
   ]
  },
  {
   "cell_type": "code",
   "execution_count": 34,
   "metadata": {},
   "outputs": [],
   "source": [
    "vdyn_ode_fn = od.ViralDynamics"
   ]
  },
  {
   "cell_type": "code",
   "execution_count": 35,
   "metadata": {},
   "outputs": [],
   "source": [
    "positive_fn = fn.proba_pos_sym(v_threshold0).positive_fn\n",
    "symptom_fn = fn.proba_pos_sym(v_threshold0).symptom_fn"
   ]
  },
  {
   "cell_type": "code",
   "execution_count": 36,
   "metadata": {},
   "outputs": [],
   "source": [
    "prob_s_ibar = prob_s_ibar0"
   ]
  },
  {
   "cell_type": "code",
   "execution_count": 37,
   "metadata": {},
   "outputs": [],
   "source": [
    "loglike = tl.loglik(test_data, vdyn_ode_fn, positive_fn, symptom_fn, prob_s_ibar = 0.1, prob_fp=0.0, Epi_Model=od.SIR,\n",
    "                 duration= start_day0, Epi_cadence = 0.5, Vir_cadence = 0.0625)"
   ]
  },
  {
   "cell_type": "code",
   "execution_count": 38,
   "metadata": {},
   "outputs": [
    {
     "name": "stdout",
     "output_type": "stream",
     "text": [
      "[1129.08336982]\n"
     ]
    }
   ],
   "source": [
    "mu_b, sigma_b = 5, 1\n",
    "beta = np.random.normal(mu_b, sigma_b, 1)\n",
    "L = 0.0025/beta\n",
    "V0 = np.random.normal(1E3, 1E2, 1)\n",
    "print(V0)\n",
    "X0 = 1E6\n",
    "Y0 = V0\n",
    "par= tf.constant(np.array([[L,0.01,beta*1E-7,0.5,20,10, V0, X0, Y0]], dtype=np.float32))\n",
    "vpar = par\n",
    "pospar = par\n",
    "sympar = par"
   ]
  },
  {
   "cell_type": "code",
   "execution_count": 39,
   "metadata": {},
   "outputs": [
    {
     "name": "stdout",
     "output_type": "stream",
     "text": [
      "(1000, 9)\n"
     ]
    }
   ],
   "source": [
    "sample_size = 1000\n",
    "k = 1\n",
    "index = 1\n",
    "mu_b, sigma_b = 5, 1\n",
    "beta = np.random.normal(mu_b, sigma_b, 1)   #\"rate at which virus infects host cells\"\n",
    "L = 0.0025/beta\n",
    "\n",
    "V0 = np.random.normal(1E3, 1E2, 1)\n",
    "X0 = 1E6\n",
    "Y0 = V0\n",
    "\n",
    "par=np.array([[L,0.01,beta*1E-7,0.5,20.0,10.0,V0,X0,Y0]])\n",
    "\n",
    "init_state=(np.array([[V0,X0,Y0]], dtype=np.float32))\n",
    "\n",
    "while index <= sample_size - 1:\n",
    "    beta = np.random.normal(mu_b, sigma_b, 1)   #\"rate at which virus infects host cells\"\n",
    "    L = 0.0025/beta\n",
    "    \n",
    "    V0 = np.random.normal(1E3, 1E2, 1)\n",
    "    X0 = 1E6\n",
    "    Y0 = V0\n",
    "    \n",
    "    par_new=np.array([[L,0.01,beta*1E-7,0.5,20.0,10.0,V0,X0,Y0]])\n",
    "    par = np.concatenate((par, par_new), axis = 0)\n",
    "    \n",
    "    init_state_new=(np.array([[V0,X0,Y0]], dtype=np.float32))\n",
    "    init_state = np.concatenate((init_state, init_state_new), 0)\n",
    "\n",
    "    index +=1\n",
    "        \n",
    "\n",
    "vpar = tf.constant(par, dtype=tf.float32)\n",
    "pospar = par\n",
    "sympar = par\n",
    "print(par.shape)"
   ]
  },
  {
   "cell_type": "code",
   "execution_count": 40,
   "metadata": {},
   "outputs": [],
   "source": [
    "epipar = tf.constant(np.array([[1.8,  5.0E-08, 0.1, 0.001, 0.999]], dtype=np.float32))"
   ]
  },
  {
   "cell_type": "code",
   "execution_count": 41,
   "metadata": {},
   "outputs": [
    {
     "name": "stdout",
     "output_type": "stream",
     "text": [
      "initial time\n",
      "tf.Tensor(0.0, shape=(), dtype=float32)\n",
      "tf.Tensor(139.0, shape=(), dtype=float32)\n"
     ]
    }
   ],
   "source": [
    "ll,pp = loglike.__call__(test_data, epipar, vpar, pospar, sympar)"
   ]
  },
  {
   "cell_type": "code",
   "execution_count": 42,
   "metadata": {},
   "outputs": [
    {
     "name": "stdout",
     "output_type": "stream",
     "text": [
      "tf.Tensor(-86584.17, shape=(), dtype=float32)\n"
     ]
    }
   ],
   "source": [
    "print(ll)"
   ]
  },
  {
   "cell_type": "code",
   "execution_count": 43,
   "metadata": {},
   "outputs": [],
   "source": [
    "C_xt = test_data[:,2]\n",
    "N_xt = test_data[:,1]\n",
    "pp_simu = C_xt/N_xt"
   ]
  },
  {
   "cell_type": "code",
   "execution_count": 44,
   "metadata": {},
   "outputs": [],
   "source": [
    "import matplotlib.pyplot as plt"
   ]
  },
  {
   "cell_type": "code",
   "execution_count": 45,
   "metadata": {},
   "outputs": [
    {
     "data": {
      "image/png": "[encoded data removed]",
      "text/plain": [
       "<Figure size 432x288 with 1 Axes>"
      ]
     },
     "metadata": {
      "needs_background": "light"
     },
     "output_type": "display_data"
    }
   ],
   "source": [
    "plt.plot(test_data[:,0], pp,\"g-\", label = \"Model\")\n",
    "plt.plot(test_data[:,0], pp_simu, \"r+\", label = \"Simulation\")\n",
    "plt.xlabel(\"# of days\")\n",
    "plt.ylabel(\"Probability\")\n",
    "plt.legend(loc=\"upper right\")\n",
    "plt.savefig('simu_vs_code.png', dpi=300, bbox_inches='tight')"
   ]
  },
  {
   "cell_type": "code",
   "execution_count": null,
   "metadata": {},
   "outputs": [],
   "source": []
  },
  {
   "cell_type": "code",
   "execution_count": null,
   "metadata": {},
   "outputs": [],
   "source": []
  }
 ],
 "metadata": {
  "kernelspec": {
   "display_name": "Python 3",
   "language": "python",
   "name": "python3"
  },
  "language_info": {
   "codemirror_mode": {
    "name": "ipython",
    "version": 3
   },
   "file_extension": ".py",
   "mimetype": "text/x-python",
   "name": "python",
   "nbconvert_exporter": "python",
   "pygments_lexer": "ipython3",
   "version": "3.7.6"
  }
 },
 "nbformat": 4,
 "nbformat_minor": 2
}
