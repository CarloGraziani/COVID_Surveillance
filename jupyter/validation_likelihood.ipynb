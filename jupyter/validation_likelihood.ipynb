{
 "cells": [
  {
   "cell_type": "code",
   "execution_count": 13,
   "metadata": {},
   "outputs": [],
   "source": [
    "import tensorflow as tf\n",
    "import numpy as np\n",
    "import tensorflow_probability as tfp\n",
    "import sys\n",
    "import scipy.io\n",
    "sys.path.append(\"..\")\n",
    "import ODE_Dynamics as od\n",
    "import Test_Likelihood as tl\n",
    "import Positive_Symptom_fn as fn"
   ]
  },
  {
   "cell_type": "code",
   "execution_count": 14,
   "metadata": {},
   "outputs": [],
   "source": [
    "data = scipy.io.loadmat('../data/test_data.mat')\n",
    "x = tf.cast(data['data'],dtype = tf.float32)\n",
    "test_data = np.reshape(\n",
    "      x, x.shape)"
   ]
  },
  {
   "cell_type": "code",
   "execution_count": 15,
   "metadata": {},
   "outputs": [],
   "source": [
    "test_data = tf.transpose(test_data)"
   ]
  },
  {
   "cell_type": "code",
   "execution_count": 16,
   "metadata": {},
   "outputs": [
    {
     "data": {
      "text/plain": [
       "<tf.Tensor: shape=(31,), dtype=float32, numpy=\n",
       "array([ 0.,  1.,  2.,  3.,  4.,  5.,  6.,  7.,  8.,  9., 10., 11., 12.,\n",
       "       13., 14., 15., 16., 17., 18., 19., 20., 21., 22., 23., 24., 25.,\n",
       "       26., 27., 28., 29., 30.], dtype=float32)>"
      ]
     },
     "execution_count": 16,
     "metadata": {},
     "output_type": "execute_result"
    }
   ],
   "source": [
    "test_data[...,0]"
   ]
  },
  {
   "cell_type": "code",
   "execution_count": 17,
   "metadata": {},
   "outputs": [],
   "source": [
    "vdyn_ode_fn = od.ViralDynamics"
   ]
  },
  {
   "cell_type": "code",
   "execution_count": 18,
   "metadata": {},
   "outputs": [],
   "source": [
    "positive_fn = fn.proba_pos_sym(1.7).positive_fn\n",
    "symptom_fn = fn.proba_pos_sym(1.7).symptom_fn"
   ]
  },
  {
   "cell_type": "code",
   "execution_count": 19,
   "metadata": {},
   "outputs": [],
   "source": [
    "prob_s_ibar = 0.1"
   ]
  },
  {
   "cell_type": "code",
   "execution_count": 20,
   "metadata": {},
   "outputs": [],
   "source": [
    "loglike = tl.loglik(test_data, vdyn_ode_fn, positive_fn, symptom_fn, prob_s_ibar, prob_fp=0.0, Epi_Model=od.SIR,\n",
    "                 duration=24.0, Epi_cadence=0.5, Vir_cadence=0.0625)"
   ]
  },
  {
   "cell_type": "code",
   "execution_count": 21,
   "metadata": {},
   "outputs": [
    {
     "name": "stdout",
     "output_type": "stream",
     "text": [
      "[1045.21569763]\n"
     ]
    }
   ],
   "source": [
    "\n",
    "# epipar = tf.constant([\n",
    "#   [[2.2, 3.1E-05,0.8],\n",
    "#    [2.4, 3.6E-05,0.9]],\n",
    "#   [[1.8, 2.6E-05,0.83],\n",
    "#    [1.7, 2.9E-05,0.88]],\n",
    "#   [[2.0, 3.3E-05,0.78],\n",
    "#    [2.2, 3.0E-05,0.75]],])\n",
    "\n",
    "mu_b, sigma_b = 5, 1\n",
    "beta = np.random.normal(mu_b, sigma_b, 1)\n",
    "L = 0.0025/beta\n",
    "V0 = np.random.normal(1E3, 1E2, 1)\n",
    "print(V0)\n",
    "X0 = 1E6\n",
    "Y0 = V0\n",
    "par=tf.constant(np.array([[L,0.01,beta*1E-7,0.5,20,10, V0, X0, Y0]], dtype=np.float32))\n",
    "\n",
    "# par = tf.constant([\n",
    "#   [[5E3,0.01,5E-7,0.5,20,10],\n",
    "#    [5E3,0.01,5E-7,0.5,20,10]],\n",
    "#   [[5E3,0.01,5E-7,0.5,20,10],\n",
    "#    [5E3,0.01,5E-7,0.5,20,10]],\n",
    "#   [[5E3,0.01,5E-7,0.5,20,10],\n",
    "#    [5E3,0.01,5E-7,0.5,20,10]],])\n",
    "vpar = par\n",
    "pospar = par\n",
    "sympar = par"
   ]
  },
  {
   "cell_type": "code",
   "execution_count": 22,
   "metadata": {},
   "outputs": [
    {
     "name": "stdout",
     "output_type": "stream",
     "text": [
      "(31, 6)\n"
     ]
    }
   ],
   "source": [
    "sample_size = 30\n",
    "index = 1\n",
    "mu_b, sigma_b = 5, 1\n",
    "beta = np.random.normal(mu_b, sigma_b, 1)   #\"rate at which virus infects host cells\"\n",
    "L = 0.0025/beta\n",
    "par=np.array([[L,0.01,beta*1E-7,0.5,20.0,10.0]])\n",
    "V0 = np.random.normal(1E3, 1E2, 1)\n",
    "X0 = 1E6\n",
    "Y0 = V0\n",
    "init_state=(np.array([[V0,X0,Y0]], dtype=np.float32))\n",
    "\n",
    "while index <= sample_size:\n",
    "    beta = np.random.normal(mu_b, sigma_b, 1)   #\"rate at which virus infects host cells\"\n",
    "    L = 0.0025/beta\n",
    "    par_new=np.array([[L,0.01,beta*1E-7,0.5,20.0,10.0]])\n",
    "    par = np.concatenate((par, par_new), axis = 0)\n",
    "    V0 = np.random.normal(1E3, 1E2, 1)\n",
    "    X0 = 1E6\n",
    "    Y0 = V0\n",
    "    init_state_new=(np.array([[V0,X0,Y0]], dtype=np.float32))\n",
    "    init_state = np.concatenate((init_state, init_state_new), 0)\n",
    "    \n",
    "    index +=1\n",
    "\n",
    "vpar = tf.constant(par, dtype=tf.float32)\n",
    "pospar = par\n",
    "sympar = par\n",
    "print(vpar.shape)"
   ]
  },
  {
   "cell_type": "code",
   "execution_count": 23,
   "metadata": {},
   "outputs": [],
   "source": [
    "epipar = tf.constant(np.array([[1.8, 5E-8,0.1, 0.001,0.999]], dtype=np.float32))"
   ]
  },
  {
   "cell_type": "code",
   "execution_count": 24,
   "metadata": {},
   "outputs": [
    {
     "name": "stdout",
     "output_type": "stream",
     "text": [
      "printing solution times\n",
      "tf.Tensor(\n",
      "[0.     0.0625 0.125  0.1875 0.25   0.3125 0.375  0.4375 0.5    0.5625\n",
      " 0.625  0.6875 0.75   0.8125 0.875  0.9375 1.     1.0625 1.125  1.1875\n",
      " 1.25   1.3125 1.375  1.4375 1.5    1.5625 1.625  1.6875 1.75   1.8125\n",
      " 1.875  1.9375 2.     2.0625 2.125  2.1875 2.25   2.3125 2.375  2.4375\n",
      " 2.5    2.5625 2.625  2.6875 2.75   2.8125 2.875  2.9375 3.     3.0625\n",
      " 3.125  3.1875 3.25   3.3125 3.375  3.4375 3.5    3.5625 3.625  3.6875\n",
      " 3.75   3.8125 3.875  3.9375 4.     4.0625 4.125  4.1875 4.25   4.3125\n",
      " 4.375  4.4375 4.5    4.5625 4.625  4.6875 4.75   4.8125 4.875  4.9375\n",
      " 5.     5.0625 5.125  5.1875 5.25   5.3125 5.375  5.4375 5.5    5.5625\n",
      " 5.625  5.6875 5.75   5.8125 5.875  5.9375 6.     6.0625 6.125  6.1875\n",
      " 6.25   6.3125 6.375  6.4375 6.5    6.5625 6.625  6.6875 6.75   6.8125\n",
      " 6.875  6.9375 7.     7.0625 7.125  7.1875 7.25   7.3125 7.375  7.4375\n",
      " 7.5    7.5625 7.625  7.6875 7.75   7.8125 7.875  7.9375 8.     8.0625\n",
      " 8.125  8.1875 8.25   8.3125 8.375  8.4375 8.5    8.5625 8.625  8.6875\n",
      " 8.75   8.8125 8.875  8.9375 9.     9.0625 9.125  9.1875 9.25   9.3125\n",
      " 9.375  9.4375 9.5    9.5625 9.625  9.6875 9.75   9.8125 9.875  9.9375], shape=(160,), dtype=float32)\n",
      "printing initial time\n",
      "0.0\n",
      "(1, 31, 160)\n",
      "(31, 160)\n",
      "tf.Tensor(\n",
      "[[ 0.5         9.416733   13.882711   ...  0.15566657  0.1510138\n",
      "   0.14636838]\n",
      " [ 0.5         9.416738   13.882712   ...  0.15567818  0.1510255\n",
      "   0.1463799 ]\n",
      " [ 0.5         9.416734   13.882716   ...  0.15566467  0.15101232\n",
      "   0.146367  ]\n",
      " ...\n",
      " [ 0.5         9.416731   13.882714   ...  0.15566108  0.15100843\n",
      "   0.14636321]\n",
      " [ 0.5         9.416731   13.882715   ...  0.15567484  0.15102193\n",
      "   0.14637639]\n",
      " [ 0.5         9.416735   13.882714   ...  0.1556606   0.15100786\n",
      "   0.1463626 ]], shape=(31, 160), dtype=float32)\n",
      "tf.Tensor(\n",
      "[[0. 1. 1. ... 0. 0. 0.]\n",
      " [0. 1. 1. ... 0. 0. 0.]\n",
      " [0. 1. 1. ... 0. 0. 0.]\n",
      " ...\n",
      " [0. 1. 1. ... 0. 0. 0.]\n",
      " [0. 1. 1. ... 0. 0. 0.]\n",
      " [0. 1. 1. ... 0. 0. 0.]], shape=(31, 160), dtype=float32)\n",
      "Printing probas\n",
      "tf.Tensor(3.920838e-05, shape=(), dtype=float32)\n",
      "tf.Tensor(2.312195e-05, shape=(), dtype=float32)\n",
      "tf.Tensor(0.00023112887, shape=(), dtype=float32)\n"
     ]
    }
   ],
   "source": [
    "ll = loglike.__call__(test_data,epipar, vpar, pospar, sympar)"
   ]
  },
  {
   "cell_type": "code",
   "execution_count": 13,
   "metadata": {},
   "outputs": [
    {
     "data": {
      "text/plain": [
       "<tf.Tensor: shape=(), dtype=float32, numpy=-36086.438>"
      ]
     },
     "execution_count": 13,
     "metadata": {},
     "output_type": "execute_result"
    }
   ],
   "source": [
    "ll"
   ]
  },
  {
   "cell_type": "code",
   "execution_count": null,
   "metadata": {},
   "outputs": [],
   "source": []
  }
 ],
 "metadata": {
  "kernelspec": {
   "display_name": "Python 3",
   "language": "python",
   "name": "python3"
  },
  "language_info": {
   "codemirror_mode": {
    "name": "ipython",
    "version": 3
   },
   "file_extension": ".py",
   "mimetype": "text/x-python",
   "name": "python",
   "nbconvert_exporter": "python",
   "pygments_lexer": "ipython3",
   "version": "3.7.4"
  }
 },
 "nbformat": 4,
 "nbformat_minor": 2
}
