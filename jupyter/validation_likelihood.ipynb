{
 "cells": [
  {
   "cell_type": "code",
   "execution_count": 1,
   "metadata": {},
   "outputs": [],
   "source": [
    "import tensorflow as tf\n",
    "import numpy as np\n",
    "import tensorflow_probability as tfp\n",
    "import sys\n",
    "import scipy.io\n",
    "sys.path.append(\"..\")\n",
    "import ODE_Dynamics as od\n",
    "import Test_Likelihood as tl\n",
    "import Positive_Symptom_fn as fn\n",
    "import simulation as sim"
   ]
  },
  {
   "cell_type": "code",
   "execution_count": 3,
   "metadata": {},
   "outputs": [
    {
     "name": "stdout",
     "output_type": "stream",
     "text": [
      "21\n",
      "22\n",
      "23\n",
      "24\n",
      "25\n",
      "26\n",
      "27\n",
      "28\n",
      "29\n",
      "30\n",
      "31\n",
      "32\n",
      "33\n",
      "34\n",
      "35\n",
      "36\n",
      "37\n",
      "38\n",
      "39\n",
      "40\n",
      "41\n",
      "42\n",
      "43\n",
      "44\n",
      "45\n",
      "46\n",
      "47\n",
      "48\n",
      "49\n",
      "50\n",
      "51\n",
      "52\n",
      "53\n",
      "54\n",
      "55\n",
      "56\n",
      "57\n",
      "58\n",
      "59\n",
      "60\n",
      "61\n",
      "62\n",
      "63\n",
      "64\n",
      "65\n",
      "66\n",
      "67\n",
      "68\n",
      "69\n",
      "70\n",
      "71\n",
      "72\n",
      "73\n",
      "74\n",
      "75\n",
      "76\n",
      "77\n",
      "78\n",
      "79\n",
      "80\n",
      "81\n",
      "82\n",
      "83\n",
      "84\n",
      "85\n",
      "86\n",
      "87\n",
      "88\n",
      "89\n",
      "90\n",
      "91\n",
      "92\n",
      "93\n",
      "94\n",
      "95\n",
      "96\n",
      "97\n",
      "98\n",
      "99\n",
      "100\n",
      "101\n",
      "102\n",
      "103\n",
      "104\n",
      "105\n",
      "106\n",
      "107\n",
      "108\n",
      "109\n",
      "110\n",
      "111\n",
      "112\n",
      "113\n",
      "114\n",
      "115\n",
      "116\n",
      "117\n",
      "118\n",
      "119\n",
      "120\n",
      "121\n",
      "122\n",
      "123\n",
      "124\n",
      "125\n",
      "126\n",
      "127\n",
      "128\n",
      "129\n",
      "130\n",
      "131\n",
      "132\n",
      "133\n",
      "134\n",
      "135\n",
      "136\n",
      "137\n",
      "138\n",
      "139\n",
      "140\n",
      "141\n",
      "142\n",
      "143\n",
      "144\n",
      "145\n",
      "146\n",
      "147\n",
      "148\n",
      "149\n",
      "150\n",
      "151\n",
      "152\n",
      "153\n",
      "154\n",
      "155\n",
      "156\n",
      "157\n",
      "158\n",
      "159\n",
      "160\n"
     ]
    }
   ],
   "source": [
    "vload = sim.sample_viral_load()\n",
    "prob_s_i0 = 0.55; prob_s_ibar0 = 0.1\n",
    "p_threshold0 = 170306.4 * 1E-05\n",
    "s_threshold0 = sim.get_symptom_threshold(vload)\n",
    "start_day0 = 20\n",
    "data = sim.simulate_epidemic(vload, start_day = start_day0,\n",
    "                             prob_s_i = prob_s_i0, prob_s_ibar = prob_s_ibar0, \n",
    "                             v_threshold = p_threshold0)\n"
   ]
  },
  {
   "cell_type": "code",
   "execution_count": 4,
   "metadata": {},
   "outputs": [
    {
     "name": "stdout",
     "output_type": "stream",
     "text": [
      "tf.Tensor(\n",
      "[[  21. 1046.    2.]\n",
      " [  22.  987.    2.]\n",
      " [  23. 1049.    5.]\n",
      " [  24. 1018.    6.]\n",
      " [  25.  985.    3.]\n",
      " [  26.  981.    4.]\n",
      " [  27. 1058.    8.]\n",
      " [  28. 1003.    4.]\n",
      " [  29.  996.    5.]\n",
      " [  30.  974.    8.]\n",
      " [  31.  971.    9.]\n",
      " [  32.  990.    6.]\n",
      " [  33. 1018.    6.]\n",
      " [  34. 1035.    6.]\n",
      " [  35.  981.   11.]\n",
      " [  36.  989.   13.]\n",
      " [  37.  939.    9.]\n",
      " [  38.  959.    8.]\n",
      " [  39. 1025.   12.]\n",
      " [  40. 1030.   19.]\n",
      " [  41.  997.   22.]\n",
      " [  42. 1029.   20.]\n",
      " [  43. 1008.   19.]\n",
      " [  44. 1012.   21.]\n",
      " [  45.  995.   18.]\n",
      " [  46.  961.   29.]\n",
      " [  47.  957.   25.]\n",
      " [  48.  973.   31.]\n",
      " [  49.  976.   36.]\n",
      " [  50. 1035.   35.]\n",
      " [  51.  934.   28.]\n",
      " [  52. 1007.   44.]\n",
      " [  53.  988.   43.]\n",
      " [  54. 1023.   47.]\n",
      " [  55. 1019.   45.]\n",
      " [  56.  942.   37.]\n",
      " [  57. 1020.   52.]\n",
      " [  58.  955.   54.]\n",
      " [  59. 1043.   54.]\n",
      " [  60.  932.   60.]\n",
      " [  61. 1019.   71.]\n",
      " [  62.  952.   70.]\n",
      " [  63.  962.   75.]\n",
      " [  64. 1022.   94.]\n",
      " [  65. 1043.   80.]\n",
      " [  66.  982.   78.]\n",
      " [  67.  991.   83.]\n",
      " [  68.  980.   83.]\n",
      " [  69.  995.   94.]\n",
      " [  70. 1032.  105.]\n",
      " [  71. 1026.  105.]\n",
      " [  72. 1037.  114.]\n",
      " [  73.  998.  117.]\n",
      " [  74. 1019.  120.]\n",
      " [  75. 1013.  124.]\n",
      " [  76.  999.  135.]\n",
      " [  77. 1020.  134.]\n",
      " [  78.  968.  133.]\n",
      " [  79. 1020.  151.]\n",
      " [  80. 1033.  134.]\n",
      " [  81.  992.  141.]\n",
      " [  82. 1043.  142.]\n",
      " [  83.  981.  148.]\n",
      " [  84. 1110.  144.]\n",
      " [  85. 1023.  144.]\n",
      " [  86.  998.  150.]\n",
      " [  87.  981.  147.]\n",
      " [  88. 1005.  132.]\n",
      " [  89. 1030.  141.]\n",
      " [  90. 1019.  139.]\n",
      " [  91. 1036.  141.]\n",
      " [  92.  998.  156.]\n",
      " [  93. 1067.  147.]\n",
      " [  94. 1048.  140.]\n",
      " [  95.  986.  149.]\n",
      " [  96. 1020.  128.]\n",
      " [  97. 1012.  129.]\n",
      " [  98. 1027.  116.]\n",
      " [  99. 1031.  128.]\n",
      " [ 100. 1040.  114.]\n",
      " [ 101. 1017.  105.]\n",
      " [ 102.  989.  116.]\n",
      " [ 103.  965.  102.]\n",
      " [ 104.  967.   88.]\n",
      " [ 105. 1033.  102.]\n",
      " [ 106.  999.  100.]\n",
      " [ 107. 1011.   88.]\n",
      " [ 108.  971.   89.]\n",
      " [ 109.  992.   83.]\n",
      " [ 110. 1064.   79.]\n",
      " [ 111. 1025.   61.]\n",
      " [ 112.  999.   84.]\n",
      " [ 113.  941.   68.]\n",
      " [ 114. 1012.   68.]\n",
      " [ 115. 1012.   54.]\n",
      " [ 116.  998.   56.]\n",
      " [ 117. 1024.   52.]\n",
      " [ 118.  993.   52.]\n",
      " [ 119. 1002.   57.]\n",
      " [ 120.  982.   51.]\n",
      " [ 121.  998.   47.]\n",
      " [ 122.  979.   40.]\n",
      " [ 123.  966.   34.]\n",
      " [ 124.  977.   32.]\n",
      " [ 125. 1008.   31.]\n",
      " [ 126. 1011.   45.]\n",
      " [ 127.  943.   24.]\n",
      " [ 128. 1019.   30.]\n",
      " [ 129.  964.   24.]\n",
      " [ 130.  940.   21.]\n",
      " [ 131.  992.   23.]\n",
      " [ 132.  956.   19.]\n",
      " [ 133.  981.   26.]\n",
      " [ 134.  993.   19.]\n",
      " [ 135.  928.   19.]\n",
      " [ 136.  981.   26.]\n",
      " [ 137.  949.   21.]\n",
      " [ 138. 1014.   21.]\n",
      " [ 139.  979.   18.]\n",
      " [ 140.  956.   21.]\n",
      " [ 141.  978.   15.]\n",
      " [ 142.  973.   17.]\n",
      " [ 143.  980.   15.]\n",
      " [ 144.  965.   15.]\n",
      " [ 145. 1044.   12.]\n",
      " [ 146.  966.   12.]\n",
      " [ 147.  966.   10.]\n",
      " [ 148. 1005.   15.]\n",
      " [ 149. 1042.   12.]\n",
      " [ 150. 1038.    8.]\n",
      " [ 151.  961.    7.]\n",
      " [ 152.  931.   10.]\n",
      " [ 153. 1001.   12.]\n",
      " [ 154.  983.    8.]\n",
      " [ 155. 1017.    9.]\n",
      " [ 156. 1053.   10.]\n",
      " [ 157. 1029.   12.]\n",
      " [ 158. 1013.    8.]\n",
      " [ 159.  957.    9.]\n",
      " [ 160.  969.    5.]], shape=(140, 3), dtype=float32)\n"
     ]
    }
   ],
   "source": [
    "days = [float(i) + start_day0 + 1 for i in list(range(len(data)))]\n",
    "tests = data[:,0]\n",
    "positives = data[:,1]\n",
    "test_data = np.column_stack((days, tests, positives))\n",
    "test_data = tf.cast(test_data, dtype = tf.float32)\n",
    "print(test_data)"
   ]
  },
  {
   "cell_type": "code",
   "execution_count": 5,
   "metadata": {},
   "outputs": [],
   "source": [
    "vdyn_ode_fn = od.ViralDynamics"
   ]
  },
  {
   "cell_type": "code",
   "execution_count": 6,
   "metadata": {},
   "outputs": [],
   "source": [
    "positive_fn = fn.proba_pos_sym(p_threshold0).positive_fn\n",
    "symptom_fn = fn.proba_pos_sym(s_threshold0).symptom_fn"
   ]
  },
  {
   "cell_type": "code",
   "execution_count": 7,
   "metadata": {},
   "outputs": [],
   "source": [
    "prob_s_ibar = prob_s_ibar0"
   ]
  },
  {
   "cell_type": "code",
   "execution_count": 8,
   "metadata": {},
   "outputs": [],
   "source": [
    "loglike = tl.loglik(test_data, vdyn_ode_fn, positive_fn, symptom_fn, prob_s_ibar = 0.1, prob_fp=0.0, Epi_Model=od.SIR,\n",
    "                 duration= start_day0, Epi_cadence = 0.5, Vir_cadence = 0.0625)"
   ]
  },
  {
   "cell_type": "code",
   "execution_count": 9,
   "metadata": {},
   "outputs": [
    {
     "name": "stdout",
     "output_type": "stream",
     "text": [
      "[940.62434018]\n"
     ]
    }
   ],
   "source": [
    "mu_b, sigma_b = 5, 1\n",
    "beta = np.random.normal(mu_b, sigma_b, 1)\n",
    "L = 0.0025/beta\n",
    "V0 = np.random.normal(1E3, 1E2, 1)\n",
    "print(V0)\n",
    "X0 = 1E6\n",
    "Y0 = V0\n",
    "par= tf.constant(np.array([[L,0.01,beta*1E-7,0.5,20,10, V0, X0, Y0]], dtype=np.float32))\n",
    "vpar = par\n",
    "pospar = par\n",
    "sympar = par"
   ]
  },
  {
   "cell_type": "code",
   "execution_count": 10,
   "metadata": {},
   "outputs": [
    {
     "name": "stdout",
     "output_type": "stream",
     "text": [
      "(1000, 9)\n"
     ]
    }
   ],
   "source": [
    "sample_size = 1000\n",
    "k = 1\n",
    "index = 1\n",
    "mu_b, sigma_b = 5, 1\n",
    "beta = np.random.normal(mu_b, sigma_b, 1)   #\"rate at which virus infects host cells\"\n",
    "L = 0.0025/beta\n",
    "\n",
    "V0 = np.random.normal(1E3, 1E2, 1)\n",
    "X0 = 1E6\n",
    "Y0 = V0\n",
    "\n",
    "par=np.array([[L,0.01,beta*1E-7,0.5,20.0,10.0,V0,X0,Y0]])\n",
    "\n",
    "init_state=(np.array([[V0,X0,Y0]], dtype=np.float32))\n",
    "\n",
    "while index <= sample_size - 1:\n",
    "    beta = np.random.normal(mu_b, sigma_b, 1)   #\"rate at which virus infects host cells\"\n",
    "    L = 0.0025/beta\n",
    "    \n",
    "    V0 = np.random.normal(1E3, 1E2, 1)\n",
    "    X0 = 1E6\n",
    "    Y0 = V0\n",
    "    \n",
    "    par_new=np.array([[L,0.01,beta*1E-7,0.5,20.0,10.0,V0,X0,Y0]])\n",
    "    par = np.concatenate((par, par_new), axis = 0)\n",
    "    \n",
    "    init_state_new=(np.array([[V0,X0,Y0]], dtype=np.float32))\n",
    "    init_state = np.concatenate((init_state, init_state_new), 0)\n",
    "\n",
    "    index +=1\n",
    "        \n",
    "\n",
    "vpar = tf.constant(par, dtype=tf.float32)\n",
    "pospar = par\n",
    "sympar = par\n",
    "print(par.shape)"
   ]
  },
  {
   "cell_type": "code",
   "execution_count": 11,
   "metadata": {},
   "outputs": [],
   "source": [
    "epipar = tf.constant(np.array([[1.8,  5.0E-08, 0.1, 0.001, 0.999]], dtype=np.float32))"
   ]
  },
  {
   "cell_type": "code",
   "execution_count": 12,
   "metadata": {},
   "outputs": [
    {
     "name": "stdout",
     "output_type": "stream",
     "text": [
      "initial time\n",
      "tf.Tensor(0.0, shape=(), dtype=float32)\n",
      "tf.Tensor(139.0, shape=(), dtype=float32)\n"
     ]
    }
   ],
   "source": [
    "ll,pp = loglike.__call__(test_data, epipar, vpar, pospar, sympar)"
   ]
  },
  {
   "cell_type": "code",
   "execution_count": 13,
   "metadata": {},
   "outputs": [
    {
     "name": "stdout",
     "output_type": "stream",
     "text": [
      "tf.Tensor(-40446.605, shape=(), dtype=float32)\n"
     ]
    }
   ],
   "source": [
    "print(ll)"
   ]
  },
  {
   "cell_type": "code",
   "execution_count": 14,
   "metadata": {},
   "outputs": [],
   "source": [
    "C_xt = test_data[:,2]\n",
    "N_xt = test_data[:,1]\n",
    "pp_simu = C_xt/N_xt"
   ]
  },
  {
   "cell_type": "code",
   "execution_count": 15,
   "metadata": {},
   "outputs": [],
   "source": [
    "import matplotlib.pyplot as plt"
   ]
  },
  {
   "cell_type": "code",
   "execution_count": 16,
   "metadata": {},
   "outputs": [
    {
     "data": {
      "image/png": "[encoded data removed]",
      "text/plain": [
       "<Figure size 432x288 with 1 Axes>"
      ]
     },
     "metadata": {
      "needs_background": "light"
     },
     "output_type": "display_data"
    }
   ],
   "source": [
    "plt.plot(test_data[:,0], pp,\"g-\", label = \"Model\")\n",
    "plt.plot(test_data[:,0], pp_simu, \"r+\", label = \"Simulation\")\n",
    "plt.xlabel(\"# of days\")\n",
    "plt.ylabel(\"Probability\")\n",
    "plt.legend(loc=\"upper right\")\n",
    "plt.savefig('simu_vs_code.png', dpi=300, bbox_inches='tight')"
   ]
  },
  {
   "cell_type": "code",
   "execution_count": null,
   "metadata": {},
   "outputs": [],
   "source": []
  },
  {
   "cell_type": "code",
   "execution_count": null,
   "metadata": {},
   "outputs": [],
   "source": []
  }
 ],
 "metadata": {
  "kernelspec": {
   "display_name": "Python 3",
   "language": "python",
   "name": "python3"
  },
  "language_info": {
   "codemirror_mode": {
    "name": "ipython",
    "version": 3
   },
   "file_extension": ".py",
   "mimetype": "text/x-python",
   "name": "python",
   "nbconvert_exporter": "python",
   "pygments_lexer": "ipython3",
   "version": "3.7.6"
  }
 },
 "nbformat": 4,
 "nbformat_minor": 2
}
