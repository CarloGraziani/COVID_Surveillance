{
 "cells": [
  {
   "cell_type": "code",
   "execution_count": 1,
   "metadata": {},
   "outputs": [],
   "source": [
    "import tensorflow as tf\n",
    "import numpy as np\n",
    "import tensorflow_probability as tfp\n",
    "import sys\n",
    "import scipy.io\n",
    "sys.path.append(\"..\")\n",
    "import ODE_Dynamics as od\n",
    "import Test_Likelihood as tl\n",
    "import Positive_Symptom_fn as fn"
   ]
  },
  {
   "cell_type": "code",
   "execution_count": 2,
   "metadata": {},
   "outputs": [],
   "source": [
    "data = scipy.io.loadmat('../data/test_data_simulation.mat')\n",
    "x = tf.cast(data['data_simulation'],dtype = tf.float32)\n",
    "test_data = np.reshape(\n",
    "      x, x.shape)"
   ]
  },
  {
   "cell_type": "code",
   "execution_count": 3,
   "metadata": {},
   "outputs": [],
   "source": [
    "test_data = tf.transpose(test_data)"
   ]
  },
  {
   "cell_type": "code",
   "execution_count": 4,
   "metadata": {},
   "outputs": [],
   "source": [
    "vdyn_ode_fn = od.ViralDynamics"
   ]
  },
  {
   "cell_type": "code",
   "execution_count": 5,
   "metadata": {},
   "outputs": [],
   "source": [
    "positive_fn = fn.proba_pos_sym(170306.4 * 1E-5).positive_fn\n",
    "symptom_fn = fn.proba_pos_sym(170306.4 * 1E-5).symptom_fn"
   ]
  },
  {
   "cell_type": "code",
   "execution_count": 6,
   "metadata": {},
   "outputs": [],
   "source": [
    "prob_s_ibar = 0.1"
   ]
  },
  {
   "cell_type": "code",
   "execution_count": 7,
   "metadata": {},
   "outputs": [],
   "source": [
    "loglike = tl.loglik(test_data, vdyn_ode_fn, positive_fn, symptom_fn, prob_s_ibar, prob_fp=0.0, Epi_Model=od.SIR,\n",
    "                 duration=149.0, Epi_cadence=0.5, Vir_cadence=0.0625)"
   ]
  },
  {
   "cell_type": "code",
   "execution_count": 8,
   "metadata": {},
   "outputs": [
    {
     "name": "stdout",
     "output_type": "stream",
     "text": [
      "[1235.2980662]\n"
     ]
    }
   ],
   "source": [
    "mu_b, sigma_b = 5, 1\n",
    "beta = np.random.normal(mu_b, sigma_b, 1)\n",
    "L = 0.0025/beta\n",
    "V0 = np.random.normal(1E3, 1E2, 1)\n",
    "print(V0)\n",
    "X0 = 1E6\n",
    "Y0 = V0\n",
    "par=tf.constant(np.array([[L,0.01,beta*1E-7,0.5,20,10, V0, X0, Y0]], dtype=np.float32))\n",
    "vpar = par\n",
    "pospar = par\n",
    "sympar = par"
   ]
  },
  {
   "cell_type": "code",
   "execution_count": 10,
   "metadata": {},
   "outputs": [
    {
     "name": "stdout",
     "output_type": "stream",
     "text": [
      "(1000, 6)\n"
     ]
    }
   ],
   "source": [
    "sample_size = 1000\n",
    "k = 1\n",
    "index = 1\n",
    "mu_b, sigma_b = 5, 1\n",
    "beta = np.random.normal(mu_b, sigma_b, 1)   #\"rate at which virus infects host cells\"\n",
    "L = 0.0025/beta\n",
    "par=np.array([[L,0.01,beta*1E-7,0.5,20.0,10.0]])\n",
    "V0 = np.random.normal(1E3, 1E2, 1)\n",
    "X0 = 1E6\n",
    "Y0 = V0\n",
    "init_state=(np.array([[V0,X0,Y0]], dtype=np.float32))\n",
    "\n",
    "while index <= sample_size - 1:\n",
    "    beta = np.random.normal(mu_b, sigma_b, 1)   #\"rate at which virus infects host cells\"\n",
    "    L = 0.0025/beta\n",
    "    par_new=np.array([[L,0.01,beta*1E-7,0.5,20.0,10.0]])\n",
    "    par = np.concatenate((par, par_new), axis = 0)\n",
    "    V0 = np.random.normal(1E3, 1E2, 1)\n",
    "    X0 = 1E6\n",
    "    Y0 = V0\n",
    "    init_state_new=(np.array([[V0,X0,Y0]], dtype=np.float32))\n",
    "    init_state = np.concatenate((init_state, init_state_new), 0)\n",
    "\n",
    "    index +=1\n",
    "        \n",
    "\n",
    "vpar = tf.constant(par, dtype=tf.float32)\n",
    "pospar = par\n",
    "sympar = par\n",
    "print(par.shape)"
   ]
  },
  {
   "cell_type": "code",
   "execution_count": 11,
   "metadata": {},
   "outputs": [],
   "source": [
    "epipar = tf.constant(np.array([[1.8,  5.0E-08,0.1, 0.001,0.999]], dtype=np.float32))"
   ]
  },
  {
   "cell_type": "code",
   "execution_count": 12,
   "metadata": {},
   "outputs": [
    {
     "name": "stdout",
     "output_type": "stream",
     "text": [
      "(1, 149, 2384)\n",
      "printing likelihood\n",
      "tf.Tensor(\n",
      "[  -20.491894   -14.618128   -32.29079    -44.475746   -32.766212\n",
      "   -38.909687   -70.01538    -57.948116   -70.87103    -71.39753\n",
      "   -84.641846   -65.9818     -79.30226   -132.12808   -106.67795\n",
      "  -133.96422   -101.56172   -115.80438   -150.54736   -130.99556\n",
      "  -187.13786   -195.40016   -189.76947   -212.24362   -256.38757\n",
      "  -272.47784   -259.95062   -283.4947    -307.35904   -412.3321\n",
      "  -385.4964    -402.99048   -428.15762   -446.04544   -593.3931\n",
      "  -566.5797    -608.6704    -674.4681    -725.4795    -808.37244\n",
      "  -876.39856  -1048.4169   -1126.5079   -1157.2126   -1268.9872\n",
      " -1154.3102   -1258.8586   -1446.6469   -1520.6249   -1636.7571\n",
      " -1720.5189   -1922.4547   -1974.3617   -1984.1564   -2147.1328\n",
      " -2294.288    -2648.9707   -2574.6428   -2941.9111   -2937.3186\n",
      " -3317.531    -3349.0037   -3689.2976   -3606.588    -4083.2732\n",
      " -4250.6475   -4275.4053   -4371.8467   -4522.6685   -4429.5005\n",
      " -4925.978    -4777.8813   -4893.6406   -5312.447    -5245.6455\n",
      " -5344.186    -5230.0596   -5393.483    -5492.466    -5349.1426\n",
      " -5644.9624   -5707.779    -5413.263    -5258.767    -5302.3037\n",
      " -5374.6416   -5371.274    -5406.16     -5268.8735   -5207.6904\n",
      " -5204.0107   -4968.3647   -4741.021    -4784.609    -4516.339\n",
      " -4080.1067   -4524.4976   -4489.256    -4305.685    -4150.729\n",
      " -3815.9802   -4177.0054   -3660.3757   -3642.2197   -3543.6033\n",
      " -3272.8442   -3314.704    -3092.641    -3063.212    -2962.0542\n",
      " -2808.8691   -2417.0715   -2478.5754   -2519.8408   -2373.3225\n",
      " -2246.6304   -2129.4407   -2021.8512   -1977.1038   -2092.0305\n",
      " -1746.9729   -1818.6805   -1707.1793   -1724.8394   -1535.5862\n",
      " -1388.4603   -1273.0114   -1365.8685   -1182.9208   -1164.979\n",
      " -1135.6997   -1027.9475   -1020.32184  -1080.1512   -1038.8173\n",
      "  -917.93835   -784.89685   -867.9182    -802.671     -794.57\n",
      "  -717.0995    -731.94696   -653.60986   -586.3118    -636.2252\n",
      "  -580.0957    -404.47507   -394.50143   -420.4666  ], shape=(149,), dtype=float32)\n",
      "printing p_given_s\n",
      "tf.Tensor(\n",
      "[2.87076668e-03 2.72390665e-03 2.58466392e-03 2.45265500e-03\n",
      " 2.32748967e-03 2.20881961e-03 2.09629233e-03 1.98958977e-03\n",
      " 1.88841356e-03 1.79247209e-03 1.70149305e-03 1.61522394e-03\n",
      " 1.53341540e-03 1.45583635e-03 1.38226605e-03 1.31249428e-03\n",
      " 1.24632323e-03 1.18356477e-03 1.12405070e-03 1.06761383e-03\n",
      " 1.01410039e-03 9.63358616e-04 9.15248529e-04 8.69632349e-04\n",
      " 8.26381496e-04 7.85366283e-04 7.46475067e-04 7.09591492e-04\n",
      " 6.74619048e-04 6.41460007e-04 6.10026065e-04 5.80232823e-04\n",
      " 5.52003039e-04 5.25256619e-04 4.99918417e-04 4.75916720e-04\n",
      " 4.53185145e-04 4.31651715e-04 4.11256216e-04 3.91932961e-04\n",
      " 3.73623887e-04 3.56272416e-04 3.39827238e-04 3.24243767e-04\n",
      " 3.09480616e-04 2.95501901e-04 2.82272493e-04 2.69760756e-04\n",
      " 2.57929758e-04 2.46751122e-04 2.36191670e-04 2.26220029e-04\n",
      " 2.16805114e-04 2.07916601e-04 1.99525486e-04 1.91600790e-04\n",
      " 1.84114571e-04 1.77036593e-04 1.70339365e-04 1.63998528e-04\n",
      " 1.57991570e-04 1.52300447e-04 1.46909821e-04 1.41805576e-04\n",
      " 1.36974355e-04 1.32403540e-04 1.28079366e-04 1.23987847e-04\n",
      " 1.20115707e-04 1.16449723e-04 1.12977410e-04 1.09685454e-04\n",
      " 1.06561543e-04 1.03592851e-04 1.00765326e-04 9.80664190e-05\n",
      " 9.54814896e-05 9.29961316e-05 9.05949855e-05 8.82630266e-05\n",
      " 8.59849024e-05 8.37510233e-05 8.15546591e-05 7.93927902e-05\n",
      " 7.72651038e-05 7.51740590e-05 7.31196051e-05 7.11018656e-05\n",
      " 6.91212990e-05 6.71779635e-05 6.52723174e-05 6.34053577e-05\n",
      " 6.15773024e-05 5.97885228e-05 5.80393134e-05 5.63291651e-05\n",
      " 5.46581286e-05 5.30249417e-05 5.14284038e-05 4.98664667e-05\n",
      " 4.83364020e-05 4.68351936e-05 4.53587163e-05 4.39023170e-05\n",
      " 4.24605532e-05 4.10283392e-05 3.96035794e-05 3.81863210e-05\n",
      " 3.67787834e-05 3.53857577e-05 3.40127954e-05 3.26643276e-05\n",
      " 3.13442324e-05 3.00560150e-05 2.88028368e-05 2.75876082e-05\n",
      " 2.64128539e-05 2.52806876e-05 2.41926682e-05 2.31501544e-05\n",
      " 2.21539885e-05 2.12045252e-05 2.03017189e-05 1.94450276e-05\n",
      " 1.86335437e-05 1.78658593e-05 1.71401516e-05 1.64541016e-05\n",
      " 1.58049916e-05 1.51896838e-05 1.46046195e-05 1.40457041e-05\n",
      " 1.35086675e-05 1.29885666e-05 1.24803182e-05 1.19782235e-05\n",
      " 1.14771919e-05 1.09756584e-05 1.04743940e-05 9.97569168e-06\n",
      " 9.48335673e-06 9.00204486e-06 8.53396705e-06 8.08033565e-06\n",
      " 7.64231118e-06 7.22084587e-06 6.81680149e-06 6.43096882e-06\n",
      " 6.06391359e-06], shape=(149,), dtype=float32)\n"
     ]
    }
   ],
   "source": [
    "ll = loglike.__call__(test_data,epipar, vpar, pospar, sympar)"
   ]
  },
  {
   "cell_type": "code",
   "execution_count": null,
   "metadata": {},
   "outputs": [],
   "source": []
  }
 ],
 "metadata": {
  "kernelspec": {
   "display_name": "Python 3",
   "language": "python",
   "name": "python3"
  },
  "language_info": {
   "codemirror_mode": {
    "name": "ipython",
    "version": 3
   },
   "file_extension": ".py",
   "mimetype": "text/x-python",
   "name": "python",
   "nbconvert_exporter": "python",
   "pygments_lexer": "ipython3",
   "version": "3.7.4"
  }
 },
 "nbformat": 4,
 "nbformat_minor": 2
}
