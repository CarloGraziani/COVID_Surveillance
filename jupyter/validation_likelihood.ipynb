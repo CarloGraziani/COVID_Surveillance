{
 "cells": [
  {
   "cell_type": "code",
   "execution_count": 1,
   "metadata": {},
   "outputs": [],
   "source": [
    "import tensorflow as tf\n",
    "import numpy as np\n",
    "import tensorflow_probability as tfp\n",
    "import sys\n",
    "import scipy.io\n",
    "sys.path.append(\"..\")\n",
    "import ODE_Dynamics as od\n",
    "import Test_Likelihood as tl\n",
    "import Positive_Symptom_fn as fn"
   ]
  },
  {
   "cell_type": "code",
   "execution_count": 2,
   "metadata": {},
   "outputs": [],
   "source": [
    "data = scipy.io.loadmat('../data/test_data_simulation.mat')\n",
    "x = tf.cast(data['data_simulation'],dtype = tf.float32)\n",
    "test_data = np.reshape(\n",
    "      x, x.shape)"
   ]
  },
  {
   "cell_type": "code",
   "execution_count": 3,
   "metadata": {},
   "outputs": [],
   "source": [
    "test_data = tf.transpose(test_data)\n"
   ]
  },
  {
   "cell_type": "code",
   "execution_count": 4,
   "metadata": {},
   "outputs": [],
   "source": [
    "vdyn_ode_fn = od.ViralDynamics"
   ]
  },
  {
   "cell_type": "code",
   "execution_count": 5,
   "metadata": {},
   "outputs": [],
   "source": [
    "positive_fn = fn.proba_pos_sym(170306.4 * 1E-5).positive_fn\n",
    "symptom_fn = fn.proba_pos_sym(170306.4 * 1E-5).symptom_fn"
   ]
  },
  {
   "cell_type": "code",
   "execution_count": 6,
   "metadata": {},
   "outputs": [],
   "source": [
    "prob_s_ibar = 0.1"
   ]
  },
  {
   "cell_type": "code",
   "execution_count": 7,
   "metadata": {},
   "outputs": [],
   "source": [
    "loglike = tl.loglik(test_data, vdyn_ode_fn, positive_fn, symptom_fn, prob_s_ibar, prob_fp=0.0, Epi_Model=od.SIR,\n",
    "                 duration=8.0, Epi_cadence=0.5, Vir_cadence=0.0625)"
   ]
  },
  {
   "cell_type": "code",
   "execution_count": 8,
   "metadata": {},
   "outputs": [
    {
     "name": "stdout",
     "output_type": "stream",
     "text": [
      "[1200.29393302]\n"
     ]
    }
   ],
   "source": [
    "mu_b, sigma_b = 5, 1\n",
    "beta = np.random.normal(mu_b, sigma_b, 1)\n",
    "L = 0.0025/beta\n",
    "V0 = np.random.normal(1E3, 1E2, 1)\n",
    "print(V0)\n",
    "X0 = 1E6\n",
    "Y0 = V0\n",
    "par=tf.constant(np.array([[L,0.01,beta*1E-7,0.5,20,10, V0, X0, Y0]], dtype=np.float32))\n",
    "vpar = par\n",
    "pospar = par\n",
    "sympar = par"
   ]
  },
  {
   "cell_type": "code",
   "execution_count": 9,
   "metadata": {},
   "outputs": [
    {
     "name": "stdout",
     "output_type": "stream",
     "text": [
      "(1000, 6)\n"
     ]
    }
   ],
   "source": [
    "sample_size = 1000\n",
    "k = 1\n",
    "index = 1\n",
    "mu_b, sigma_b = 5, 1\n",
    "beta = np.random.normal(mu_b, sigma_b, 1)   #\"rate at which virus infects host cells\"\n",
    "L = 0.0025/beta\n",
    "\n",
    "V0 = np.random.normal(1E3, 1E2, 1)\n",
    "X0 = 1E6\n",
    "Y0 = V0\n",
    "\n",
    "par=np.array([[L,0.01,beta*1E-7,0.5,20.0,10.0, V0, X0, Y0]])\n",
    "init_state=(np.array([[V0,X0,Y0]], dtype=np.float32))\n",
    "\n",
    "while index <= sample_size - 1:\n",
    "    beta = np.random.normal(mu_b, sigma_b, 1)   #\"rate at which virus infects host cells\"\n",
    "    L = 0.0025/beta\n",
    "    par_new=np.array([[L,0.01,beta*1E-7,0.5,20.0,10.0]])\n",
    "    par = np.concatenate((par, par_new), axis = 0)\n",
    "    V0 = np.random.normal(1E3, 1E2, 1)\n",
    "    X0 = 1E6\n",
    "    Y0 = V0\n",
    "    par_new=np.array([[L,0.01,beta*1E-7,0.5,20.0,10.0, V0, X0, Y0]])\n",
    "    par = np.concatenate((par, par_new), axis = 0)\n",
    "    init_state_new=(np.array([[V0,X0,Y0]], dtype=np.float32))\n",
    "    init_state = np.concatenate((init_state, init_state_new), 0)\n",
    "\n",
    "    index +=1\n",
    "        \n",
    "\n",
    "vpar = tf.constant(par, dtype=tf.float32)\n",
    "pospar = par\n",
    "sympar = par\n",
    "print(par.shape)"
   ]
  },
  {
   "cell_type": "code",
   "execution_count": 10,
   "metadata": {},
   "outputs": [],
   "source": [
    "epipar = tf.constant(np.array([[1.8,  5.0E-08,0.1, 0.001,0.999]], dtype=np.float32))"
   ]
  },
  {
   "cell_type": "code",
   "execution_count": 11,
   "metadata": {},
   "outputs": [
    {
     "name": "stdout",
     "output_type": "stream",
     "text": [
      "initial time\n",
      "tf.Tensor(0.0, shape=(), dtype=float32)\n",
      "tf.Tensor(149.0, shape=(), dtype=float32)\n",
      "lkjmnvlkjnfg\n",
      "tf.Tensor(\n",
      "[0.9979029  0.99772984 0.9975427  0.9973403  0.9971216  0.99688554\n",
      " 0.99663097 0.9963565  0.99606067 0.99574196 0.9953986  0.99502856\n",
      " 0.99462974 0.9941997  0.99373573 0.9932351  0.9926951  0.99211264\n",
      " 0.99148464 0.990808   0.99007946 0.98929566 0.98845315 0.9875485\n",
      " 0.98657817 0.98553854 0.9844261  0.9832372  0.9819683  0.98061585\n",
      " 0.9791764  0.97764647 0.97602445 0.97431237 0.9725115  0.97062165\n",
      " 0.9686417  0.96656966 0.96440345 0.9621411  0.95977956 0.957313\n",
      " 0.9547378  0.9520534  0.94926274 0.94637144 0.9433883  0.94032484\n",
      " 0.9371953  0.93401647 0.93080735 0.9275892  0.92438495 0.9212192\n",
      " 0.91811794 0.9151081  0.91221714 0.9094731  0.90690416 0.9045379\n",
      " 0.9024016  0.90051854 0.8989053  0.89757496 0.8965369  0.8957964\n",
      " 0.8953548  0.89520854 0.89534974 0.8957689  0.89645714 0.89740336\n",
      " 0.898594   0.9000133  0.901644   0.9034673  0.90546364 0.9076127\n",
      " 0.90989393 0.9122872  0.91477257 0.9173308  0.9199437  0.9225939\n",
      " 0.92526543 0.9279436  0.9306148  0.9332673  0.93589026 0.9384743\n",
      " 0.9410114  0.9434947  0.9459184  0.94827783 0.95056945 0.95279026\n",
      " 0.9549383  0.9570122  0.9590112  0.9609352  0.9627844  0.9645597\n",
      " 0.96626204 0.96789277 0.96945345 0.9709459  0.972372   0.9737337\n",
      " 0.97503316 0.9762724  0.97745365 0.97857904 0.9796508  0.98067105\n",
      " 0.981642   0.98256576 0.9834444  0.9842798  0.98507404 0.985829\n",
      " 0.98654634 0.987228   0.9878755  0.98849064 0.9890748  0.9896297\n",
      " 0.99015653 0.9906568  0.9911318  0.99158275 0.9920109  0.99241734\n",
      " 0.9928031  0.99316937 0.993517   0.99384695 0.9941601  0.99445736\n",
      " 0.9947395  0.9950073  0.99526143 0.99550265 0.99573153 0.99594885\n",
      " 0.996155   0.9963507  0.9965365  0.99671274 0.99688005 0.99703884], shape=(150,), dtype=float32)\n"
     ]
    }
   ],
   "source": [
    "ll,pp = loglike.__call__(test_data,epipar, vpar, pospar, sympar)"
   ]
  },
  {
   "cell_type": "code",
   "execution_count": 12,
   "metadata": {},
   "outputs": [],
   "source": [
    "C_xt = test_data[:,2]\n",
    "N_xt = test_data[:,1]\n",
    "pp_simu = C_xt/N_xt"
   ]
  },
  {
   "cell_type": "code",
   "execution_count": 13,
   "metadata": {},
   "outputs": [],
   "source": [
    "import matplotlib.pyplot as plt\n",
    "import matplotlib as mpl\n",
    "from cycler import cycler\n",
    "plt.style.use('ggplot')\n",
    "font = {'size'   : 9}\n",
    "plt.rc('font', **font)"
   ]
  },
  {
   "cell_type": "code",
   "execution_count": 14,
   "metadata": {},
   "outputs": [
    {
     "data": {
      "text/plain": [
       "Text(0.5, 1, 'Test-positive probability likelihood function')"
      ]
     },
     "execution_count": 14,
     "metadata": {},
     "output_type": "execute_result"
    },
    {
     "data": {
      "image/png": "[encoded data removed]",
      "text/plain": [
       "<Figure size 432x288 with 1 Axes>"
      ]
     },
     "metadata": {
      "needs_background": "light"
     },
     "output_type": "display_data"
    }
   ],
   "source": [
    "plt.plot(test_data[:,0], pp,\"r-\", label = \"Analysis Model\")\n",
    "plt.plot(test_data[:,0], pp_simu, \"b+\", label = \"Simulation\")\n",
    "plt.xlabel(\"Number of days\")\n",
    "plt.ylabel(\"Test-positive probability\")\n",
    "plt.legend(loc=\"upper right\")\n",
    "plt.savefig('simu_vs_code.pdf', dpi=300, bbox_inches='tight')\n",
    "plt.title(\"Test-positive probability likelihood function\")"
   ]
  },
  {
   "cell_type": "code",
   "execution_count": null,
   "metadata": {},
   "outputs": [],
   "source": []
  },
  {
   "cell_type": "code",
   "execution_count": null,
   "metadata": {},
   "outputs": [],
   "source": []
  }
 ],
 "metadata": {
  "kernelspec": {
   "display_name": "Python 3",
   "language": "python",
   "name": "python3"
  },
  "language_info": {
   "codemirror_mode": {
    "name": "ipython",
    "version": 3
   },
   "file_extension": ".py",
   "mimetype": "text/x-python",
   "name": "python",
   "nbconvert_exporter": "python",
   "pygments_lexer": "ipython3",
   "version": "3.7.4"
  }
 },
 "nbformat": 4,
 "nbformat_minor": 2
}
