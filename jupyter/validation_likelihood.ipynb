{
 "cells": [
  {
   "cell_type": "code",
   "execution_count": 1,
   "metadata": {},
   "outputs": [],
   "source": [
    "import tensorflow as tf\n",
    "import numpy as np\n",
    "import tensorflow_probability as tfp\n",
    "import sys\n",
    "import scipy.io\n",
    "sys.path.append(\"..\")\n",
    "import ODE_Dynamics as od\n",
    "import Test_Likelihood as tl\n",
    "import Positive_Symptom_fn as fn"
   ]
  },
  {
   "cell_type": "code",
   "execution_count": 2,
   "metadata": {},
   "outputs": [],
   "source": [
    "data = scipy.io.loadmat('../data/test_data_simulation.mat')\n",
    "x = tf.cast(data['data_simulation'],dtype = tf.float32)\n",
    "test_data = np.reshape(\n",
    "      x, x.shape)"
   ]
  },
  {
   "cell_type": "code",
   "execution_count": 3,
   "metadata": {},
   "outputs": [
    {
     "name": "stdout",
     "output_type": "stream",
     "text": [
      "tf.Tensor(\n",
      "[[0.000e+00 1.060e+03 3.000e+00]\n",
      " [1.000e+00 1.062e+03 8.000e+00]\n",
      " [2.000e+00 1.037e+03 3.000e+00]\n",
      " [3.000e+00 9.970e+02 6.000e+00]\n",
      " [4.000e+00 9.850e+02 6.000e+00]\n",
      " [5.000e+00 9.920e+02 5.000e+00]\n",
      " [6.000e+00 9.670e+02 4.000e+00]\n",
      " [7.000e+00 1.068e+03 2.000e+00]\n",
      " [8.000e+00 1.060e+03 6.000e+00]\n",
      " [9.000e+00 1.011e+03 5.000e+00]\n",
      " [1.000e+01 1.049e+03 7.000e+00]\n",
      " [1.100e+01 1.001e+03 8.000e+00]\n",
      " [1.200e+01 9.740e+02 6.000e+00]\n",
      " [1.300e+01 9.500e+02 9.000e+00]\n",
      " [1.400e+01 9.470e+02 8.000e+00]\n",
      " [1.500e+01 9.740e+02 8.000e+00]\n",
      " [1.600e+01 1.003e+03 1.000e+01]\n",
      " [1.700e+01 1.028e+03 9.000e+00]\n",
      " [1.800e+01 1.014e+03 1.100e+01]\n",
      " [1.900e+01 1.026e+03 1.200e+01]\n",
      " [2.000e+01 9.730e+02 1.300e+01]\n",
      " [2.100e+01 1.036e+03 1.000e+01]\n",
      " [2.200e+01 1.016e+03 1.800e+01]\n",
      " [2.300e+01 1.023e+03 1.100e+01]\n",
      " [2.400e+01 1.002e+03 1.600e+01]\n",
      " [2.500e+01 1.056e+03 2.100e+01]\n",
      " [2.600e+01 9.940e+02 1.700e+01]\n",
      " [2.700e+01 1.115e+03 2.700e+01]\n",
      " [2.800e+01 1.010e+03 2.400e+01]\n",
      " [2.900e+01 1.020e+03 2.500e+01]\n",
      " [3.000e+01 1.069e+03 3.200e+01]\n",
      " [3.100e+01 1.014e+03 4.500e+01]\n",
      " [3.200e+01 1.043e+03 3.900e+01]\n",
      " [3.300e+01 1.019e+03 4.200e+01]\n",
      " [3.400e+01 1.024e+03 3.600e+01]\n",
      " [3.500e+01 1.029e+03 4.200e+01]\n",
      " [3.600e+01 1.103e+03 5.100e+01]\n",
      " [3.700e+01 1.087e+03 5.500e+01]\n",
      " [3.800e+01 1.058e+03 4.700e+01]\n",
      " [3.900e+01 1.065e+03 5.500e+01]\n",
      " [4.000e+01 1.113e+03 6.500e+01]\n",
      " [4.100e+01 1.160e+03 7.400e+01]\n",
      " [4.200e+01 1.136e+03 7.900e+01]\n",
      " [4.300e+01 1.117e+03 7.600e+01]\n",
      " [4.400e+01 1.126e+03 8.400e+01]\n",
      " [4.500e+01 1.103e+03 9.700e+01]\n",
      " [4.600e+01 1.151e+03 9.300e+01]\n",
      " [4.700e+01 1.119e+03 8.800e+01]\n",
      " [4.800e+01 1.221e+03 1.010e+02]\n",
      " [4.900e+01 1.134e+03 1.100e+02]\n",
      " [5.000e+01 1.152e+03 1.230e+02]\n",
      " [5.100e+01 1.166e+03 1.250e+02]\n",
      " [5.200e+01 1.194e+03 1.400e+02]\n",
      " [5.300e+01 1.200e+03 1.370e+02]\n",
      " [5.400e+01 1.277e+03 1.360e+02]\n",
      " [5.500e+01 1.291e+03 1.700e+02]\n",
      " [5.600e+01 1.246e+03 1.500e+02]\n",
      " [5.700e+01 1.293e+03 1.720e+02]\n",
      " [5.800e+01 1.343e+03 1.780e+02]\n",
      " [5.900e+01 1.302e+03 1.940e+02]\n",
      " [6.000e+01 1.321e+03 1.920e+02]\n",
      " [6.100e+01 1.271e+03 1.940e+02]\n",
      " [6.200e+01 1.295e+03 1.970e+02]\n",
      " [6.300e+01 1.379e+03 2.130e+02]\n",
      " [6.400e+01 1.350e+03 2.030e+02]\n",
      " [6.500e+01 1.379e+03 2.040e+02]\n",
      " [6.600e+01 1.371e+03 2.340e+02]\n",
      " [6.700e+01 1.410e+03 2.360e+02]\n",
      " [6.800e+01 1.349e+03 2.310e+02]\n",
      " [6.900e+01 1.395e+03 2.500e+02]\n",
      " [7.000e+01 1.447e+03 2.580e+02]\n",
      " [7.100e+01 1.393e+03 2.530e+02]\n",
      " [7.200e+01 1.389e+03 2.520e+02]\n",
      " [7.300e+01 1.451e+03 2.590e+02]\n",
      " [7.400e+01 1.523e+03 2.390e+02]\n",
      " [7.500e+01 1.458e+03 2.310e+02]\n",
      " [7.600e+01 1.402e+03 2.460e+02]\n",
      " [7.700e+01 1.472e+03 2.530e+02]\n",
      " [7.800e+01 1.415e+03 2.530e+02]\n",
      " [7.900e+01 1.478e+03 2.430e+02]\n",
      " [8.000e+01 1.380e+03 2.210e+02]\n",
      " [8.100e+01 1.425e+03 2.320e+02]\n",
      " [8.200e+01 1.399e+03 2.150e+02]\n",
      " [8.300e+01 1.419e+03 2.100e+02]\n",
      " [8.400e+01 1.433e+03 2.320e+02]\n",
      " [8.500e+01 1.399e+03 2.040e+02]\n",
      " [8.600e+01 1.404e+03 1.960e+02]\n",
      " [8.700e+01 1.440e+03 2.090e+02]\n",
      " [8.800e+01 1.406e+03 2.050e+02]\n",
      " [8.900e+01 1.439e+03 1.910e+02]\n",
      " [9.000e+01 1.409e+03 2.020e+02]\n",
      " [9.100e+01 1.371e+03 1.700e+02]\n",
      " [9.200e+01 1.381e+03 1.810e+02]\n",
      " [9.300e+01 1.417e+03 1.630e+02]\n",
      " [9.400e+01 1.333e+03 1.510e+02]\n",
      " [9.500e+01 1.280e+03 1.350e+02]\n",
      " [9.600e+01 1.336e+03 1.450e+02]\n",
      " [9.700e+01 1.279e+03 1.150e+02]\n",
      " [9.800e+01 1.298e+03 1.410e+02]\n",
      " [9.900e+01 1.351e+03 1.280e+02]\n",
      " [1.000e+02 1.312e+03 1.220e+02]\n",
      " [1.010e+02 1.291e+03 1.200e+02]\n",
      " [1.020e+02 1.260e+03 1.160e+02]\n",
      " [1.030e+02 1.223e+03 1.170e+02]\n",
      " [1.040e+02 1.228e+03 9.900e+01]\n",
      " [1.050e+02 1.234e+03 9.400e+01]\n",
      " [1.060e+02 1.191e+03 1.130e+02]\n",
      " [1.070e+02 1.176e+03 9.100e+01]\n",
      " [1.080e+02 1.181e+03 7.900e+01]\n",
      " [1.090e+02 1.169e+03 7.500e+01]\n",
      " [1.100e+02 1.149e+03 7.200e+01]\n",
      " [1.110e+02 1.155e+03 7.300e+01]\n",
      " [1.120e+02 1.175e+03 6.400e+01]\n",
      " [1.130e+02 1.123e+03 5.800e+01]\n",
      " [1.140e+02 1.119e+03 5.800e+01]\n",
      " [1.150e+02 1.137e+03 5.200e+01]\n",
      " [1.160e+02 1.135e+03 6.200e+01]\n",
      " [1.170e+02 1.199e+03 6.400e+01]\n",
      " [1.180e+02 1.119e+03 5.100e+01]\n",
      " [1.190e+02 1.112e+03 4.900e+01]\n",
      " [1.200e+02 1.074e+03 5.400e+01]\n",
      " [1.210e+02 1.020e+03 4.400e+01]\n",
      " [1.220e+02 1.062e+03 3.700e+01]\n",
      " [1.230e+02 1.067e+03 4.200e+01]\n",
      " [1.240e+02 1.014e+03 3.700e+01]\n",
      " [1.250e+02 1.055e+03 2.900e+01]\n",
      " [1.260e+02 1.039e+03 3.400e+01]\n",
      " [1.270e+02 1.070e+03 2.400e+01]\n",
      " [1.280e+02 1.005e+03 2.600e+01]\n",
      " [1.290e+02 1.036e+03 2.300e+01]\n",
      " [1.300e+02 1.085e+03 2.000e+01]\n",
      " [1.310e+02 1.021e+03 1.800e+01]\n",
      " [1.320e+02 9.940e+02 1.700e+01]\n",
      " [1.330e+02 1.004e+03 2.500e+01]\n",
      " [1.340e+02 1.027e+03 2.300e+01]\n",
      " [1.350e+02 9.950e+02 2.000e+01]\n",
      " [1.360e+02 1.011e+03 2.000e+01]\n",
      " [1.370e+02 1.011e+03 1.800e+01]\n",
      " [1.380e+02 1.052e+03 2.000e+01]\n",
      " [1.390e+02 9.690e+02 1.300e+01]\n",
      " [1.400e+02 9.960e+02 1.700e+01]\n",
      " [1.410e+02 9.620e+02 1.400e+01]\n",
      " [1.420e+02 9.390e+02 7.000e+00]\n",
      " [1.430e+02 9.690e+02 1.700e+01]\n",
      " [1.440e+02 9.760e+02 1.400e+01]\n",
      " [1.450e+02 1.045e+03 1.000e+01]\n",
      " [1.460e+02 1.004e+03 1.400e+01]\n",
      " [1.470e+02 9.410e+02 9.000e+00]\n",
      " [1.480e+02 9.730e+02 1.100e+01]], shape=(149, 3), dtype=float32)\n"
     ]
    }
   ],
   "source": [
    "test_data = tf.transpose(test_data)\n",
    "print(test_data)"
   ]
  },
  {
   "cell_type": "code",
   "execution_count": 4,
   "metadata": {},
   "outputs": [],
   "source": [
    "vdyn_ode_fn = od.ViralDynamics"
   ]
  },
  {
   "cell_type": "code",
   "execution_count": 5,
   "metadata": {},
   "outputs": [],
   "source": [
    "positive_fn = fn.proba_pos_sym(170306.4 * 1E-5).positive_fn\n",
    "symptom_fn = fn.proba_pos_sym(170306.4 * 1E-5).symptom_fn"
   ]
  },
  {
   "cell_type": "code",
   "execution_count": 6,
   "metadata": {},
   "outputs": [],
   "source": [
    "prob_s_ibar = 0.1"
   ]
  },
  {
   "cell_type": "code",
   "execution_count": 7,
   "metadata": {},
   "outputs": [],
   "source": [
    "loglike = tl.loglik(test_data, vdyn_ode_fn, positive_fn, symptom_fn, prob_s_ibar, prob_fp=0.0, Epi_Model=od.SIR,\n",
    "                 duration= 20.0, Epi_cadence=0.5, Vir_cadence=0.0625)"
   ]
  },
  {
   "cell_type": "code",
   "execution_count": 8,
   "metadata": {},
   "outputs": [
    {
     "name": "stdout",
     "output_type": "stream",
     "text": [
      "[1004.73752273]\n"
     ]
    }
   ],
   "source": [
    "mu_b, sigma_b = 5, 1\n",
    "beta = np.random.normal(mu_b, sigma_b, 1)\n",
    "L = 0.0025/beta\n",
    "V0 = np.random.normal(1E3, 1E2, 1)\n",
    "print(V0)\n",
    "X0 = 1E6\n",
    "Y0 = V0\n",
    "par=tf.constant(np.array([[L,0.01,beta*1E-7,0.5,20,10, V0, X0, Y0]], dtype=np.float32))\n",
    "vpar = par\n",
    "pospar = par\n",
    "sympar = par"
   ]
  },
  {
   "cell_type": "code",
   "execution_count": 9,
   "metadata": {},
   "outputs": [
    {
     "name": "stdout",
     "output_type": "stream",
     "text": [
      "(1166, 6)\n"
     ]
    }
   ],
   "source": [
    "sample_size = 1166\n",
    "k = 1\n",
    "index = 1\n",
    "mu_b, sigma_b = 5, 1\n",
    "beta = np.random.normal(mu_b, sigma_b, 1)   #\"rate at which virus infects host cells\"\n",
    "L = 0.0025/beta\n",
    "par=np.array([[L,0.01,beta*1E-7,0.5,20.0,10.0]])\n",
    "V0 = np.random.normal(1E3, 1E2, 1)\n",
    "X0 = 1E6\n",
    "Y0 = V0\n",
    "init_state=(np.array([[V0,X0,Y0]], dtype=np.float32))\n",
    "\n",
    "while index <= sample_size - 1:\n",
    "    beta = np.random.normal(mu_b, sigma_b, 1)   #\"rate at which virus infects host cells\"\n",
    "    L = 0.0025/beta\n",
    "    par_new=np.array([[L,0.01,beta*1E-7,0.5,20.0,10.0]])\n",
    "    par = np.concatenate((par, par_new), axis = 0)\n",
    "    V0 = np.random.normal(1E3, 1E2, 1)\n",
    "    X0 = 1E6\n",
    "    Y0 = V0\n",
    "    init_state_new=(np.array([[V0,X0,Y0]], dtype=np.float32))\n",
    "    init_state = np.concatenate((init_state, init_state_new), 0)\n",
    "\n",
    "    index +=1\n",
    "        \n",
    "\n",
    "vpar = tf.constant(par, dtype=tf.float32)\n",
    "pospar = par\n",
    "sympar = par\n",
    "print(par.shape)"
   ]
  },
  {
   "cell_type": "code",
   "execution_count": 10,
   "metadata": {},
   "outputs": [],
   "source": [
    "epipar = tf.constant(np.array([[1.8,  5.0E-08,0.1, 0.001,0.999]], dtype=np.float32))"
   ]
  },
  {
   "cell_type": "code",
   "execution_count": 11,
   "metadata": {},
   "outputs": [
    {
     "name": "stdout",
     "output_type": "stream",
     "text": [
      "initial time\n",
      "0.0\n",
      "final time\n",
      "tf.Tensor(149.0, shape=(), dtype=float32)\n",
      "tf.Tensor(\n",
      "[ -40.811092  -57.8351    -20.685152  -37.459747  -36.72158   -31.61107\n",
      "  -26.772562  -18.205477  -37.64897   -32.79648   -42.73052   -47.025017\n",
      "  -38.092564  -51.31022   -47.25432   -48.065598  -57.305607  -54.1666\n",
      "  -62.550995  -67.309425  -70.66769   -61.466286  -91.51869   -67.00939\n",
      "  -85.33661  -105.29956   -90.57477  -129.26166  -116.47605  -121.14491\n",
      " -146.25232  -184.18939  -168.082    -176.42935  -160.63422  -179.0408\n",
      " -209.51773  -220.27473  -198.85678  -221.34595  -251.46286  -278.62265\n",
      " -289.5426   -282.196    -302.52267  -329.7228   -327.56177  -314.9437\n",
      " -355.71613  -364.31723  -393.24573  -399.9914   -433.1193   -429.43207\n",
      " -440.73566  -504.28253  -463.1983   -509.5913   -529.1098   -549.01\n",
      " -549.6577   -544.1974   -553.8013   -595.1582   -574.36707  -581.8197\n",
      " -626.6668   -637.37683  -617.8075   -655.9436   -678.3778   -660.24146\n",
      " -658.0028   -680.84393  -662.87616  -637.8211   -651.53564  -675.7261\n",
      " -665.9061   -660.6892   -607.14874  -633.5806   -600.2783   -594.8584\n",
      " -636.18604  -581.22003  -567.55554  -596.9567   -585.0126   -563.4905\n",
      " -580.8211   -513.8701   -537.03906  -505.8011   -470.99365  -431.5932\n",
      " -458.84064  -388.73175  -446.1737   -423.73364  -406.2012   -399.41556\n",
      " -387.20667  -385.93118  -344.72852  -333.22485  -374.44604  -320.4124\n",
      " -291.31656  -279.99933  -270.45398  -273.03424  -250.96756  -231.02274\n",
      " -230.15126  -214.74481  -241.0836   -250.28928  -209.03047  -202.51125\n",
      " -214.24683  -182.2501   -163.55095  -178.07516  -160.1192   -137.20616\n",
      " -151.25687  -120.82951  -123.70651  -114.71904  -106.121506  -96.385315\n",
      "  -91.355865 -118.07266  -111.636826  -99.86584   -99.92287   -92.421234\n",
      " -100.31373   -72.304115  -87.251595  -74.92768   -47.538406  -85.90621\n",
      "  -74.2648    -59.651726  -74.330444  -52.907867  -61.247845], shape=(149,), dtype=float32)\n",
      "tf.Tensor(\n",
      "[1.23646225e-06 8.06248863e-04 2.06539687e-03 3.42523749e-03\n",
      " 4.89343889e-03 6.47693453e-03 7.38783181e-03 7.98367150e-03\n",
      " 8.62568989e-03 9.31717549e-03 1.00615956e-02 1.08625730e-02\n",
      " 1.17239263e-02 1.26490118e-02 1.36405798e-02 1.47016579e-02\n",
      " 1.58357415e-02 1.70467980e-02 1.83395669e-02 1.97201893e-02\n",
      " 2.11946871e-02 2.27880962e-02 2.44989246e-02 2.63281539e-02\n",
      " 2.82823443e-02 3.03676873e-02 3.25903818e-02 3.49557102e-02\n",
      " 3.74687277e-02 4.01336662e-02 4.29540724e-02 4.59324829e-02\n",
      " 4.90705557e-02 5.23687787e-02 5.58265001e-02 5.94415888e-02\n",
      " 6.32107630e-02 6.71293065e-02 7.11909682e-02 7.53883570e-02\n",
      " 7.97124282e-02 8.41464326e-02 8.86553228e-02 9.32088122e-02\n",
      " 9.77838412e-02 1.02363154e-01 1.06940135e-01 1.11526743e-01\n",
      " 1.16129704e-01 1.20746545e-01 1.25364468e-01 1.29965857e-01\n",
      " 1.34525195e-01 1.39012456e-01 1.43397138e-01 1.47644073e-01\n",
      " 1.51719064e-01 1.55588672e-01 1.59220114e-01 1.62584275e-01\n",
      " 1.65653035e-01 1.68403164e-01 1.70811594e-01 1.72859848e-01\n",
      " 1.74535066e-01 1.75828099e-01 1.76734433e-01 1.77252799e-01\n",
      " 1.77385375e-01 1.77136049e-01 1.76515505e-01 1.75550610e-01\n",
      " 1.74270540e-01 1.72708318e-01 1.70901433e-01 1.68883309e-01\n",
      " 1.66677475e-01 1.64304674e-01 1.61788180e-01 1.59147546e-01\n",
      " 1.56403705e-01 1.53575584e-01 1.50680825e-01 1.47736609e-01\n",
      " 1.44757047e-01 1.41756520e-01 1.38745964e-01 1.35735631e-01\n",
      " 1.32733569e-01 1.29746914e-01 1.26780659e-01 1.23840295e-01\n",
      " 1.20931432e-01 1.18056484e-01 1.15218773e-01 1.12420171e-01\n",
      " 1.09661147e-01 1.06942341e-01 1.04263321e-01 1.01624221e-01\n",
      " 9.90239158e-02 9.64614302e-02 9.39361006e-02 9.14465189e-02\n",
      " 8.89918357e-02 8.65709931e-02 8.41833279e-02 8.18279907e-02\n",
      " 7.95044228e-02 7.72123858e-02 7.49517679e-02 7.27224201e-02\n",
      " 7.05241114e-02 6.83573261e-02 6.62224069e-02 6.41202405e-02\n",
      " 6.20513260e-02 6.00169078e-02 5.80177084e-02 5.60546033e-02\n",
      " 5.41284084e-02 5.22396564e-02 5.03895320e-02 4.85786498e-02\n",
      " 4.68077958e-02 4.50775623e-02 4.33887839e-02 4.17419523e-02\n",
      " 4.01375555e-02 3.85759324e-02 3.70570607e-02 3.55814211e-02\n",
      " 3.41488458e-02 3.27593721e-02 3.14127244e-02 3.01088374e-02\n",
      " 2.88472157e-02 2.76276525e-02 2.64494959e-02 2.53122281e-02\n",
      " 2.42152344e-02 2.31577288e-02 2.21391805e-02 2.11586189e-02\n",
      " 2.02152450e-02 1.93082690e-02 1.84367578e-02 1.75997615e-02\n",
      " 1.67963691e-02], shape=(149,), dtype=float32)\n"
     ]
    }
   ],
   "source": [
    "ll,pp = loglike.__call__(test_data,epipar, vpar, pospar, sympar)\n",
    "print(pp)"
   ]
  },
  {
   "cell_type": "code",
   "execution_count": 12,
   "metadata": {},
   "outputs": [
    {
     "name": "stdout",
     "output_type": "stream",
     "text": [
      "tf.Tensor(\n",
      "[0.00283019 0.00753296 0.00289296 0.00601805 0.00609137 0.00504032\n",
      " 0.0041365  0.00187266 0.00566038 0.0049456  0.00667302 0.00799201\n",
      " 0.00616016 0.00947368 0.00844773 0.00821355 0.00997009 0.00875486\n",
      " 0.01084813 0.01169591 0.01336074 0.00965251 0.01771654 0.01075269\n",
      " 0.01596806 0.01988636 0.01710262 0.02421525 0.02376238 0.0245098\n",
      " 0.02993452 0.0443787  0.03739214 0.04121688 0.03515625 0.04081633\n",
      " 0.04623754 0.05059798 0.04442344 0.05164319 0.05840072 0.0637931\n",
      " 0.06954225 0.06803939 0.07460035 0.08794197 0.0807993  0.07864165\n",
      " 0.08271908 0.09700176 0.10677084 0.10720412 0.11725293 0.11416667\n",
      " 0.1064996  0.13168086 0.12038523 0.13302398 0.1325391  0.14900154\n",
      " 0.14534444 0.15263572 0.15212356 0.15445976 0.15037037 0.14793329\n",
      " 0.17067833 0.16737589 0.17123796 0.17921147 0.17829993 0.1816224\n",
      " 0.18142548 0.17849758 0.15692712 0.15843621 0.17546362 0.171875\n",
      " 0.17879859 0.16441137 0.16014493 0.16280702 0.1536812  0.14799154\n",
      " 0.16189812 0.14581844 0.13960114 0.14513889 0.1458037  0.13273107\n",
      " 0.14336409 0.12399708 0.13106444 0.11503176 0.11327832 0.10546875\n",
      " 0.10853294 0.08991399 0.10862866 0.09474463 0.09298781 0.0929512\n",
      " 0.09206349 0.09566639 0.0806189  0.07617504 0.09487826 0.07738096\n",
      " 0.06689247 0.0641574  0.06266318 0.06320346 0.05446808 0.05164737\n",
      " 0.05183199 0.04573439 0.05462555 0.05337781 0.04557641 0.04406475\n",
      " 0.05027933 0.04313726 0.03483992 0.0393627  0.03648915 0.02748815\n",
      " 0.03272377 0.02242991 0.02587065 0.02220077 0.01843318 0.01762977\n",
      " 0.01710262 0.0249004  0.02239533 0.0201005  0.01978239 0.01780416\n",
      " 0.01901141 0.01341589 0.01706827 0.01455301 0.00745474 0.01754386\n",
      " 0.01434426 0.00956938 0.01394422 0.00956429 0.01130524], shape=(149,), dtype=float32)\n"
     ]
    }
   ],
   "source": [
    "ll\n",
    "C_xt = test_data[:,2]\n",
    "N_xt = test_data[:,1]\n",
    "pp_simu = C_xt/N_xt\n",
    "print(pp_simu)"
   ]
  },
  {
   "cell_type": "code",
   "execution_count": 13,
   "metadata": {},
   "outputs": [],
   "source": [
    "import matplotlib.pyplot as plt\n",
    "import matplotlib as mpl\n",
    "from cycler import cycler\n",
    "plt.style.use('ggplot')\n",
    "font = {'size'   : 9}\n",
    "plt.rc('font', **font)"
   ]
  },
  {
   "cell_type": "code",
   "execution_count": 14,
   "metadata": {},
   "outputs": [
    {
     "data": {
      "text/plain": [
       "Text(0.5, 1, 'Test-positive probability likelihood function')"
      ]
     },
     "execution_count": 14,
     "metadata": {},
     "output_type": "execute_result"
    },
    {
     "data": {
      "image/png": "[encoded data removed]",
      "text/plain": [
       "<Figure size 432x288 with 1 Axes>"
      ]
     },
     "metadata": {
      "needs_background": "light"
     },
     "output_type": "display_data"
    }
   ],
   "source": [
    "plt.plot(test_data[:,0], pp,\"r-\", label = \"Analysis Model\")\n",
    "plt.plot(test_data[:,0], pp_simu, \"b+\", label = \"Simulation\")\n",
    "plt.xlabel(\"Number of days\")\n",
    "plt.ylabel(\"Test-positive probability\")\n",
    "plt.legend(loc=\"upper right\")\n",
    "plt.savefig('simu_vs_code.pdf', dpi=300, bbox_inches='tight')\n",
    "plt.title(\"Test-positive probability likelihood function\")"
   ]
  },
  {
   "cell_type": "code",
   "execution_count": 14,
   "metadata": {},
   "outputs": [
    {
     "name": "stdout",
     "output_type": "stream",
     "text": [
      "initial time\n",
      "0.0\n",
      "final time\n",
      "tf.Tensor(149.0, shape=(), dtype=float32)\n"
     ]
    }
   ],
   "source": [
    "prob_s_ibar = 0.1; prob_fp = 0.0\n",
    "duration = 100; Epi_cadence = 0.5; Vir_cadence = 0.0625\n",
    "vpar = tf.constant(np.array([[L,0.01,beta*1E-7,0.5,20,10, V0, X0, Y0]], dtype=np.float32))\n",
    "pospar = vpar; sympar = vpar\n",
    "loglike = tl.loglik(test_data, vdyn_ode_fn, positive_fn, symptom_fn, prob_s_ibar, prob_fp=0.0, Epi_Model=od.SIR,\n",
    "                 duration= 20.0, Epi_cadence=0.5, Vir_cadence=0.0625)\n",
    "ll,pp = loglike.__call__(test_data, epipar, vpar, pospar, sympar)"
   ]
  },
  {
   "cell_type": "code",
   "execution_count": 22,
   "metadata": {},
   "outputs": [
    {
     "data": {
      "text/plain": [
       "<tf.Tensor: shape=(149,), dtype=float32, numpy=\n",
       "array([-5.46141848e-07,  9.46962915e-04,  2.21096817e-03,  3.57615342e-03,\n",
       "        5.05021634e-03,  6.64135581e-03,  8.35830998e-03,  1.02104014e-02,\n",
       "        1.22075025e-02,  1.43601410e-02,  1.66794602e-02,  1.91772114e-02,\n",
       "        2.18657721e-02,  2.47574914e-02,  2.78646667e-02,  3.12004220e-02,\n",
       "        3.47787552e-02,  3.86145413e-02,  4.27233987e-02,  4.71217558e-02,\n",
       "        5.18481880e-02,  5.60326912e-02,  6.02949224e-02,  6.48509264e-02,\n",
       "        6.97170869e-02,  7.49098882e-02,  8.04457739e-02,  8.63408819e-02,\n",
       "        9.26108435e-02,  9.92705151e-02,  1.06333740e-01,  1.13813080e-01,\n",
       "        1.21719547e-01,  1.30062789e-01,  1.38850868e-01,  1.48089156e-01,\n",
       "        1.57780096e-01,  1.67922974e-01,  1.78513691e-01,  1.89544693e-01,\n",
       "        2.01004907e-01,  2.12872967e-01,  2.25110590e-01,  2.37682417e-01,\n",
       "        2.50557840e-01,  2.63709158e-01,  2.77109355e-01,  2.90730983e-01,\n",
       "        3.04544747e-01,  3.18518937e-01,  3.32618743e-01,  3.46806169e-01,\n",
       "        3.61040115e-01,  3.75276774e-01,  3.89469892e-01,  4.03571814e-01,\n",
       "        4.17533666e-01,  4.31306601e-01,  4.44842368e-01,  4.58093911e-01,\n",
       "        4.71015930e-01,  4.83568639e-01,  4.95720237e-01,  5.07439077e-01,\n",
       "        5.18692970e-01,  5.29450774e-01,  5.39683342e-01,  5.49363434e-01,\n",
       "        5.58467090e-01,  5.66972554e-01,  5.74864388e-01,  5.82134902e-01,\n",
       "        5.88779628e-01,  5.94796300e-01,  6.00184739e-01,  6.04946256e-01,\n",
       "        6.09083772e-01,  6.12601101e-01,  6.15502834e-01,  6.17794454e-01,\n",
       "        6.19481564e-01,  6.20570421e-01,  6.21067584e-01,  6.20979786e-01,\n",
       "        6.20314300e-01,  6.19078994e-01,  6.17282450e-01,  6.14934325e-01,\n",
       "        6.12045765e-01,  6.08629584e-01,  6.04698300e-01,  6.00260973e-01,\n",
       "        5.95327497e-01,  5.89908540e-01,  5.84015667e-01,  5.77661514e-01,\n",
       "        5.70859969e-01,  5.63625813e-01,  5.55975497e-01,  5.47926486e-01,\n",
       "        5.39497495e-01,  5.30708611e-01,  5.21580815e-01,  5.12136519e-01,\n",
       "        5.02398968e-01,  4.92392480e-01,  4.82141942e-01,  4.71673071e-01,\n",
       "        4.61012065e-01,  4.50185359e-01,  4.39219683e-01,  4.28141564e-01,\n",
       "        4.16977525e-01,  4.05753642e-01,  3.94495636e-01,  3.83228540e-01,\n",
       "        3.71976614e-01,  3.60763460e-01,  3.49611282e-01,  3.38541299e-01,\n",
       "        3.27573448e-01,  3.16726625e-01,  3.06018174e-01,  2.95464158e-01,\n",
       "        2.85079360e-01,  2.74877101e-01,  2.64869213e-01,  2.55066335e-01,\n",
       "        2.45477572e-01,  2.36110926e-01,  2.26973116e-01,  2.18069762e-01,\n",
       "        2.09405243e-01,  2.00982884e-01,  1.92804903e-01,  1.84872508e-01,\n",
       "        1.77186042e-01,  1.69745028e-01,  1.62548229e-01,  1.55593872e-01,\n",
       "        1.48879468e-01,  1.42402023e-01,  1.36158004e-01,  1.30143464e-01,\n",
       "        1.24354050e-01,  1.18785121e-01,  1.13431677e-01,  1.08288549e-01,\n",
       "        1.03350341e-01], dtype=float32)>"
      ]
     },
     "execution_count": 22,
     "metadata": {},
     "output_type": "execute_result"
    }
   ],
   "source": [
    "pp"
   ]
  },
  {
   "cell_type": "code",
   "execution_count": 16,
   "metadata": {},
   "outputs": [
    {
     "data": {
      "text/plain": [
       "<tf.Tensor: shape=(1, 5), dtype=float32, numpy=array([[1.80e+00, 5.00e-08, 1.00e-01, 1.00e-03, 9.99e-01]], dtype=float32)>"
      ]
     },
     "execution_count": 16,
     "metadata": {},
     "output_type": "execute_result"
    }
   ],
   "source": [
    "epipar"
   ]
  },
  {
   "cell_type": "code",
   "execution_count": 17,
   "metadata": {},
   "outputs": [
    {
     "data": {
      "text/plain": [
       "<tf.Tensor: shape=(1, 9), dtype=float32, numpy=\n",
       "array([[3.7607492e-04, 9.9999998e-03, 6.6476116e-07, 5.0000000e-01,\n",
       "        2.0000000e+01, 1.0000000e+01, 7.9532025e+02, 1.0000000e+06,\n",
       "        7.9532025e+02]], dtype=float32)>"
      ]
     },
     "execution_count": 17,
     "metadata": {},
     "output_type": "execute_result"
    }
   ],
   "source": [
    "vpar"
   ]
  },
  {
   "cell_type": "code",
   "execution_count": 18,
   "metadata": {},
   "outputs": [
    {
     "data": {
      "text/plain": [
       "<tf.Tensor: shape=(1, 9), dtype=float32, numpy=\n",
       "array([[3.7607492e-04, 9.9999998e-03, 6.6476116e-07, 5.0000000e-01,\n",
       "        2.0000000e+01, 1.0000000e+01, 7.9532025e+02, 1.0000000e+06,\n",
       "        7.9532025e+02]], dtype=float32)>"
      ]
     },
     "execution_count": 18,
     "metadata": {},
     "output_type": "execute_result"
    }
   ],
   "source": [
    "pospar"
   ]
  },
  {
   "cell_type": "code",
   "execution_count": 19,
   "metadata": {},
   "outputs": [
    {
     "data": {
      "text/plain": [
       "<tf.Tensor: shape=(1, 9), dtype=float32, numpy=\n",
       "array([[3.7607492e-04, 9.9999998e-03, 6.6476116e-07, 5.0000000e-01,\n",
       "        2.0000000e+01, 1.0000000e+01, 7.9532025e+02, 1.0000000e+06,\n",
       "        7.9532025e+02]], dtype=float32)>"
      ]
     },
     "execution_count": 19,
     "metadata": {},
     "output_type": "execute_result"
    }
   ],
   "source": [
    "sympar"
   ]
  },
  {
   "cell_type": "code",
   "execution_count": null,
   "metadata": {},
   "outputs": [],
   "source": []
  }
 ],
 "metadata": {
  "kernelspec": {
   "display_name": "Python 3",
   "language": "python",
   "name": "python3"
  },
  "language_info": {
   "codemirror_mode": {
    "name": "ipython",
    "version": 3
   },
   "file_extension": ".py",
   "mimetype": "text/x-python",
   "name": "python",
   "nbconvert_exporter": "python",
   "pygments_lexer": "ipython3",
   "version": "3.7.4"
  }
 },
 "nbformat": 4,
 "nbformat_minor": 2
}
