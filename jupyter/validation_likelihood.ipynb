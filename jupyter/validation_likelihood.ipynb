{
 "cells": [
  {
   "cell_type": "code",
   "execution_count": 33,
   "metadata": {},
   "outputs": [],
   "source": [
    "import tensorflow as tf\n",
    "import numpy as np\n",
    "import tensorflow_probability as tfp\n",
    "import sys\n",
    "import scipy.io\n",
    "sys.path.append(\"..\")\n",
    "import ODE_Dynamics as od\n",
    "import Test_Likelihood as tl\n",
    "import Positive_Symptom_fn as fn"
   ]
  },
  {
   "cell_type": "code",
   "execution_count": 34,
   "metadata": {},
   "outputs": [],
   "source": [
    "data = scipy.io.loadmat('../data/test_data_simulation.mat')\n",
    "x = tf.cast(data['data_simulation'],dtype = tf.float32)\n",
    "test_data = np.reshape(\n",
    "      x, x.shape)"
   ]
  },
  {
   "cell_type": "code",
   "execution_count": 35,
   "metadata": {},
   "outputs": [
    {
     "name": "stdout",
     "output_type": "stream",
     "text": [
      "tf.Tensor(\n",
      "[[0.000e+00 9.850e+02 0.000e+00]\n",
      " [1.000e+00 1.046e+03 2.000e+00]\n",
      " [2.000e+00 9.660e+02 5.000e+00]\n",
      " [3.000e+00 9.900e+02 7.000e+00]\n",
      " [4.000e+00 1.019e+03 5.000e+00]\n",
      " [5.000e+00 9.670e+02 1.200e+01]\n",
      " [6.000e+00 1.017e+03 1.000e+01]\n",
      " [7.000e+00 1.023e+03 7.000e+00]\n",
      " [8.000e+00 1.006e+03 1.000e+01]\n",
      " [9.000e+00 1.069e+03 1.300e+01]\n",
      " [1.000e+01 1.033e+03 1.000e+01]\n",
      " [1.100e+01 9.990e+02 8.000e+00]\n",
      " [1.200e+01 1.039e+03 8.000e+00]\n",
      " [1.300e+01 1.048e+03 1.400e+01]\n",
      " [1.400e+01 1.053e+03 1.000e+01]\n",
      " [1.500e+01 1.033e+03 1.600e+01]\n",
      " [1.600e+01 1.043e+03 1.700e+01]\n",
      " [1.700e+01 1.044e+03 2.000e+01]\n",
      " [1.800e+01 1.026e+03 2.200e+01]\n",
      " [1.900e+01 1.032e+03 3.000e+01]\n",
      " [2.000e+01 1.027e+03 2.600e+01]\n",
      " [2.100e+01 1.075e+03 2.800e+01]\n",
      " [2.200e+01 1.066e+03 3.100e+01]\n",
      " [2.300e+01 1.057e+03 3.400e+01]\n",
      " [2.400e+01 1.021e+03 3.900e+01]\n",
      " [2.500e+01 1.062e+03 4.500e+01]\n",
      " [2.600e+01 1.068e+03 4.300e+01]\n",
      " [2.700e+01 1.086e+03 5.100e+01]\n",
      " [2.800e+01 1.108e+03 5.700e+01]\n",
      " [2.900e+01 1.034e+03 4.900e+01]\n",
      " [3.000e+01 1.083e+03 5.800e+01]\n",
      " [3.100e+01 1.102e+03 7.000e+01]\n",
      " [3.200e+01 1.051e+03 7.100e+01]\n",
      " [3.300e+01 1.113e+03 7.300e+01]\n",
      " [3.400e+01 1.129e+03 7.300e+01]\n",
      " [3.500e+01 1.099e+03 7.500e+01]\n",
      " [3.600e+01 1.162e+03 8.300e+01]\n",
      " [3.700e+01 1.151e+03 9.000e+01]\n",
      " [3.800e+01 1.124e+03 8.600e+01]\n",
      " [3.900e+01 1.155e+03 9.800e+01]\n",
      " [4.000e+01 1.157e+03 1.000e+02]\n",
      " [4.100e+01 1.194e+03 1.060e+02]\n",
      " [4.200e+01 1.183e+03 1.200e+02]\n",
      " [4.300e+01 1.215e+03 1.260e+02]\n",
      " [4.400e+01 1.179e+03 1.480e+02]\n",
      " [4.500e+01 1.180e+03 1.290e+02]\n",
      " [4.600e+01 1.249e+03 1.660e+02]\n",
      " [4.700e+01 1.267e+03 1.690e+02]\n",
      " [4.800e+01 1.234e+03 1.680e+02]\n",
      " [4.900e+01 1.312e+03 1.930e+02]\n",
      " [5.000e+01 1.259e+03 1.790e+02]\n",
      " [5.100e+01 1.289e+03 1.810e+02]\n",
      " [5.200e+01 1.366e+03 1.910e+02]\n",
      " [5.300e+01 1.288e+03 2.060e+02]\n",
      " [5.400e+01 1.365e+03 2.230e+02]\n",
      " [5.500e+01 1.318e+03 2.170e+02]\n",
      " [5.600e+01 1.419e+03 2.320e+02]\n",
      " [5.700e+01 1.387e+03 2.510e+02]\n",
      " [5.800e+01 1.365e+03 2.470e+02]\n",
      " [5.900e+01 1.440e+03 2.710e+02]\n",
      " [6.000e+01 1.388e+03 2.590e+02]\n",
      " [6.100e+01 1.421e+03 2.520e+02]\n",
      " [6.200e+01 1.380e+03 2.430e+02]\n",
      " [6.300e+01 1.469e+03 2.520e+02]\n",
      " [6.400e+01 1.409e+03 2.420e+02]\n",
      " [6.500e+01 1.446e+03 2.540e+02]\n",
      " [6.600e+01 1.451e+03 2.360e+02]\n",
      " [6.700e+01 1.428e+03 2.460e+02]\n",
      " [6.800e+01 1.393e+03 2.420e+02]\n",
      " [6.900e+01 1.463e+03 2.200e+02]\n",
      " [7.000e+01 1.447e+03 2.250e+02]\n",
      " [7.100e+01 1.453e+03 2.530e+02]\n",
      " [7.200e+01 1.477e+03 2.430e+02]\n",
      " [7.300e+01 1.421e+03 2.330e+02]\n",
      " [7.400e+01 1.418e+03 2.060e+02]\n",
      " [7.500e+01 1.404e+03 1.950e+02]\n",
      " [7.600e+01 1.458e+03 2.150e+02]\n",
      " [7.700e+01 1.423e+03 2.060e+02]\n",
      " [7.800e+01 1.358e+03 1.990e+02]\n",
      " [7.900e+01 1.386e+03 1.850e+02]\n",
      " [8.000e+01 1.439e+03 1.770e+02]\n",
      " [8.100e+01 1.387e+03 1.720e+02]\n",
      " [8.200e+01 1.392e+03 1.770e+02]\n",
      " [8.300e+01 1.438e+03 1.690e+02]\n",
      " [8.400e+01 1.376e+03 1.670e+02]\n",
      " [8.500e+01 1.335e+03 1.610e+02]\n",
      " [8.600e+01 1.366e+03 1.450e+02]\n",
      " [8.700e+01 1.352e+03 1.440e+02]\n",
      " [8.800e+01 1.289e+03 1.450e+02]\n",
      " [8.900e+01 1.272e+03 1.260e+02]\n",
      " [9.000e+01 1.238e+03 1.290e+02]\n",
      " [9.100e+01 1.261e+03 1.200e+02]\n",
      " [9.200e+01 1.263e+03 1.110e+02]\n",
      " [9.300e+01 1.280e+03 1.220e+02]\n",
      " [9.400e+01 1.248e+03 9.800e+01]\n",
      " [9.500e+01 1.248e+03 9.800e+01]\n",
      " [9.600e+01 1.266e+03 8.800e+01]\n",
      " [9.700e+01 1.266e+03 9.200e+01]\n",
      " [9.800e+01 1.253e+03 9.800e+01]\n",
      " [9.900e+01 1.213e+03 7.300e+01]\n",
      " [1.000e+02 1.211e+03 5.600e+01]\n",
      " [1.010e+02 1.157e+03 7.100e+01]\n",
      " [1.020e+02 1.120e+03 6.300e+01]\n",
      " [1.030e+02 1.177e+03 7.200e+01]\n",
      " [1.040e+02 1.201e+03 7.300e+01]\n",
      " [1.050e+02 1.222e+03 5.700e+01]\n",
      " [1.060e+02 1.085e+03 4.800e+01]\n",
      " [1.070e+02 1.138e+03 4.500e+01]\n",
      " [1.080e+02 1.116e+03 4.600e+01]\n",
      " [1.090e+02 1.120e+03 5.500e+01]\n",
      " [1.100e+02 1.037e+03 4.600e+01]\n",
      " [1.110e+02 1.073e+03 5.100e+01]\n",
      " [1.120e+02 1.086e+03 3.700e+01]\n",
      " [1.130e+02 1.093e+03 3.600e+01]\n",
      " [1.140e+02 1.114e+03 3.000e+01]\n",
      " [1.150e+02 1.084e+03 3.300e+01]\n",
      " [1.160e+02 1.067e+03 3.300e+01]\n",
      " [1.170e+02 1.026e+03 2.400e+01]\n",
      " [1.180e+02 1.083e+03 3.300e+01]\n",
      " [1.190e+02 9.990e+02 2.800e+01]\n",
      " [1.200e+02 1.054e+03 2.000e+01]\n",
      " [1.210e+02 1.086e+03 2.600e+01]\n",
      " [1.220e+02 1.024e+03 2.000e+01]\n",
      " [1.230e+02 9.830e+02 1.800e+01]\n",
      " [1.240e+02 1.054e+03 1.200e+01]\n",
      " [1.250e+02 1.016e+03 1.800e+01]\n",
      " [1.260e+02 1.067e+03 1.100e+01]\n",
      " [1.270e+02 1.092e+03 1.400e+01]\n",
      " [1.280e+02 9.860e+02 1.800e+01]\n",
      " [1.290e+02 9.800e+02 1.800e+01]\n",
      " [1.300e+02 9.860e+02 2.100e+01]\n",
      " [1.310e+02 9.280e+02 1.000e+01]\n",
      " [1.320e+02 9.990e+02 9.000e+00]\n",
      " [1.330e+02 1.002e+03 1.000e+01]\n",
      " [1.340e+02 1.007e+03 1.000e+01]\n",
      " [1.350e+02 9.850e+02 1.100e+01]\n",
      " [1.360e+02 1.026e+03 1.200e+01]\n",
      " [1.370e+02 9.740e+02 7.000e+00]\n",
      " [1.380e+02 9.670e+02 7.000e+00]\n",
      " [1.390e+02 1.000e+03 6.000e+00]\n",
      " [1.400e+02 1.054e+03 6.000e+00]\n",
      " [1.410e+02 9.680e+02 3.000e+00]\n",
      " [1.420e+02 9.990e+02 6.000e+00]\n",
      " [1.430e+02 9.110e+02 4.000e+00]\n",
      " [1.440e+02 9.450e+02 1.000e+01]\n",
      " [1.450e+02 9.770e+02 5.000e+00]\n",
      " [1.460e+02 9.760e+02 7.000e+00]\n",
      " [1.470e+02 9.250e+02 1.000e+00]\n",
      " [1.480e+02 9.620e+02 4.000e+00]], shape=(149, 3), dtype=float32)\n"
     ]
    }
   ],
   "source": [
    "test_data = tf.transpose(test_data)\n",
    "print(test_data)"
   ]
  },
  {
   "cell_type": "code",
   "execution_count": 36,
   "metadata": {},
   "outputs": [],
   "source": [
    "vdyn_ode_fn = od.ViralDynamics"
   ]
  },
  {
   "cell_type": "code",
   "execution_count": 37,
   "metadata": {},
   "outputs": [],
   "source": [
    "positive_fn = fn.proba_pos_sym(170306.4 * 1E-5).positive_fn\n",
    "symptom_fn = fn.proba_pos_sym(170306.4 * 1E-5).symptom_fn"
   ]
  },
  {
   "cell_type": "code",
   "execution_count": 38,
   "metadata": {},
   "outputs": [],
   "source": [
    "prob_s_ibar = 0.1"
   ]
  },
  {
   "cell_type": "code",
   "execution_count": 47,
   "metadata": {},
   "outputs": [],
   "source": [
    "loglike = tl.loglik(test_data, vdyn_ode_fn, positive_fn, symptom_fn, prob_s_ibar, prob_fp=0.0, Epi_Model=od.SIR,\n",
    "                 duration= 15.0, Epi_cadence=0.5, Vir_cadence=0.0625)"
   ]
  },
  {
   "cell_type": "code",
   "execution_count": 48,
   "metadata": {},
   "outputs": [
    {
     "name": "stdout",
     "output_type": "stream",
     "text": [
      "[1142.74957165]\n"
     ]
    }
   ],
   "source": [
    "mu_b, sigma_b = 5, 1\n",
    "beta = np.random.normal(mu_b, sigma_b, 1)\n",
    "L = 0.0025/beta\n",
    "V0 = np.random.normal(1E3, 1E2, 1)\n",
    "print(V0)\n",
    "X0 = 1E6\n",
    "Y0 = V0\n",
    "par=tf.constant(np.array([[L,0.01,beta*1E-7,0.5,20,10, V0, X0, Y0]], dtype=np.float32))\n",
    "vpar = par\n",
    "pospar = par\n",
    "sympar = par"
   ]
  },
  {
   "cell_type": "code",
   "execution_count": 49,
   "metadata": {},
   "outputs": [
    {
     "name": "stdout",
     "output_type": "stream",
     "text": [
      "(1166, 6)\n"
     ]
    }
   ],
   "source": [
    "sample_size = 1166\n",
    "k = 1\n",
    "index = 1\n",
    "mu_b, sigma_b = 5, 1\n",
    "beta = np.random.normal(mu_b, sigma_b, 1)   #\"rate at which virus infects host cells\"\n",
    "L = 0.0025/beta\n",
    "par=np.array([[L,0.01,beta*1E-7,0.5,20.0,10.0]])\n",
    "V0 = np.random.normal(1E3, 1E2, 1)\n",
    "X0 = 1E6\n",
    "Y0 = V0\n",
    "init_state=(np.array([[V0,X0,Y0]], dtype=np.float32))\n",
    "\n",
    "while index <= sample_size - 1:\n",
    "    beta = np.random.normal(mu_b, sigma_b, 1)   #\"rate at which virus infects host cells\"\n",
    "    L = 0.0025/beta\n",
    "    par_new=np.array([[L,0.01,beta*1E-7,0.5,20.0,10.0]])\n",
    "    par = np.concatenate((par, par_new), axis = 0)\n",
    "    V0 = np.random.normal(1E3, 1E2, 1)\n",
    "    X0 = 1E6\n",
    "    Y0 = V0\n",
    "    init_state_new=(np.array([[V0,X0,Y0]], dtype=np.float32))\n",
    "    init_state = np.concatenate((init_state, init_state_new), 0)\n",
    "\n",
    "    index +=1\n",
    "        \n",
    "\n",
    "vpar = tf.constant(par, dtype=tf.float32)\n",
    "pospar = par\n",
    "sympar = par\n",
    "print(par.shape)"
   ]
  },
  {
   "cell_type": "code",
   "execution_count": 50,
   "metadata": {},
   "outputs": [],
   "source": [
    "epipar = tf.constant(np.array([[1.8,  5.0E-08,0.1, 0.001,0.999]], dtype=np.float32))"
   ]
  },
  {
   "cell_type": "code",
   "execution_count": 51,
   "metadata": {},
   "outputs": [],
   "source": [
    "ll,pp = loglike.__call__(test_data,epipar, vpar, pospar, sympar)"
   ]
  },
  {
   "cell_type": "code",
   "execution_count": 52,
   "metadata": {},
   "outputs": [],
   "source": [
    "C_xt = test_data[:,2]\n",
    "N_xt = test_data[:,1]\n",
    "pp_simu = C_xt/N_xt"
   ]
  },
  {
   "cell_type": "code",
   "execution_count": 53,
   "metadata": {},
   "outputs": [],
   "source": [
    "import matplotlib.pyplot as plt\n",
    "import matplotlib as mpl\n",
    "from cycler import cycler\n",
    "plt.style.use('ggplot')\n",
    "font = {'size'   : 9}\n",
    "plt.rc('font', **font)"
   ]
  },
  {
   "cell_type": "code",
   "execution_count": 54,
   "metadata": {},
   "outputs": [
    {
     "data": {
      "text/plain": [
       "Text(0.5, 1, 'Test-positive probability likelihood function')"
      ]
     },
     "execution_count": 54,
     "metadata": {},
     "output_type": "execute_result"
    },
    {
     "data": {
      "image/png": "[encoded data removed]",
      "text/plain": [
       "<Figure size 432x288 with 1 Axes>"
      ]
     },
     "metadata": {},
     "output_type": "display_data"
    }
   ],
   "source": [
    "plt.plot(test_data[:,0], pp,\"r-\", label = \"Analysis Model\")\n",
    "plt.plot(test_data[:,0], pp_simu, \"b+\", label = \"Simulation\")\n",
    "plt.xlabel(\"Number of days\")\n",
    "plt.ylabel(\"Test-positive probability\")\n",
    "plt.legend(loc=\"upper right\")\n",
    "plt.savefig('simu_vs_code.pdf', dpi=300, bbox_inches='tight')\n",
    "plt.title(\"Test-positive probability likelihood function\")"
   ]
  },
  {
   "cell_type": "code",
   "execution_count": null,
   "metadata": {},
   "outputs": [],
   "source": []
  },
  {
   "cell_type": "code",
   "execution_count": null,
   "metadata": {},
   "outputs": [],
   "source": []
  }
 ],
 "metadata": {
  "kernelspec": {
   "display_name": "Python 3",
   "language": "python",
   "name": "python3"
  },
  "language_info": {
   "codemirror_mode": {
    "name": "ipython",
    "version": 3
   },
   "file_extension": ".py",
   "mimetype": "text/x-python",
   "name": "python",
   "nbconvert_exporter": "python",
   "pygments_lexer": "ipython3",
   "version": "3.7.4"
  }
 },
 "nbformat": 4,
 "nbformat_minor": 2
}
