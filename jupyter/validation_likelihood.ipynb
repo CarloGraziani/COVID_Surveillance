{
 "cells": [
  {
   "cell_type": "code",
   "execution_count": 1,
   "metadata": {},
   "outputs": [],
   "source": [
    "import tensorflow as tf\n",
    "import numpy as np\n",
    "import tensorflow_probability as tfp\n",
    "import sys\n",
    "import scipy.io\n",
    "sys.path.append(\"..\")\n",
    "import ODE_Dynamics as od\n",
    "import Test_Likelihood as tl\n",
    "import Positive_Symptom_fn as fn"
   ]
  },
  {
   "cell_type": "code",
   "execution_count": 2,
   "metadata": {},
   "outputs": [],
   "source": [
    "data = scipy.io.loadmat('../data/test_data_simulation.mat')\n",
    "x = tf.cast(data['data_simulation'],dtype = tf.float32)\n",
    "test_data = np.reshape(\n",
    "      x, x.shape)"
   ]
  },
  {
   "cell_type": "code",
   "execution_count": 3,
   "metadata": {},
   "outputs": [],
   "source": [
    "test_data = tf.transpose(test_data)"
   ]
  },
  {
   "cell_type": "code",
   "execution_count": 4,
   "metadata": {},
   "outputs": [],
   "source": [
    "vdyn_ode_fn = od.ViralDynamics"
   ]
  },
  {
   "cell_type": "code",
   "execution_count": 5,
   "metadata": {},
   "outputs": [],
   "source": [
    "positive_fn = fn.proba_pos_sym(170306.4 * 1E-5).positive_fn\n",
    "symptom_fn = fn.proba_pos_sym(170306.4 * 1E-5).symptom_fn"
   ]
  },
  {
   "cell_type": "code",
   "execution_count": 6,
   "metadata": {},
   "outputs": [],
   "source": [
    "prob_s_ibar = 0.1"
   ]
  },
  {
   "cell_type": "code",
   "execution_count": 7,
   "metadata": {},
   "outputs": [],
   "source": [
    "loglike = tl.loglik(test_data, vdyn_ode_fn, positive_fn, symptom_fn, prob_s_ibar, prob_fp=0.0, Epi_Model=od.SIR,\n",
    "                 duration=149.0, Epi_cadence=0.5, Vir_cadence=0.0625)"
   ]
  },
  {
   "cell_type": "code",
   "execution_count": 8,
   "metadata": {},
   "outputs": [
    {
     "name": "stdout",
     "output_type": "stream",
     "text": [
      "[990.68599472]\n"
     ]
    }
   ],
   "source": [
    "mu_b, sigma_b = 5, 1\n",
    "beta = np.random.normal(mu_b, sigma_b, 1)\n",
    "L = 0.0025/beta\n",
    "V0 = np.random.normal(1E3, 1E2, 1)\n",
    "print(V0)\n",
    "X0 = 1E6\n",
    "Y0 = V0\n",
    "par=tf.constant(np.array([[L,0.01,beta*1E-7,0.5,20,10, V0, X0, Y0]], dtype=np.float32))\n",
    "vpar = par\n",
    "pospar = par\n",
    "sympar = par"
   ]
  },
  {
   "cell_type": "code",
   "execution_count": 9,
   "metadata": {},
   "outputs": [
    {
     "name": "stdout",
     "output_type": "stream",
     "text": [
      "(1000, 6)\n"
     ]
    }
   ],
   "source": [
    "sample_size = 1000\n",
    "k = 1\n",
    "index = 1\n",
    "mu_b, sigma_b = 5, 1\n",
    "beta = np.random.normal(mu_b, sigma_b, 1)   #\"rate at which virus infects host cells\"\n",
    "L = 0.0025/beta\n",
    "par=np.array([[L,0.01,beta*1E-7,0.5,20.0,10.0]])\n",
    "V0 = np.random.normal(1E3, 1E2, 1)\n",
    "X0 = 1E6\n",
    "Y0 = V0\n",
    "init_state=(np.array([[V0,X0,Y0]], dtype=np.float32))\n",
    "\n",
    "while index <= sample_size - 1:\n",
    "    beta = np.random.normal(mu_b, sigma_b, 1)   #\"rate at which virus infects host cells\"\n",
    "    L = 0.0025/beta\n",
    "    par_new=np.array([[L,0.01,beta*1E-7,0.5,20.0,10.0]])\n",
    "    par = np.concatenate((par, par_new), axis = 0)\n",
    "    V0 = np.random.normal(1E3, 1E2, 1)\n",
    "    X0 = 1E6\n",
    "    Y0 = V0\n",
    "    init_state_new=(np.array([[V0,X0,Y0]], dtype=np.float32))\n",
    "    init_state = np.concatenate((init_state, init_state_new), 0)\n",
    "\n",
    "    index +=1\n",
    "        \n",
    "\n",
    "vpar = tf.constant(par, dtype=tf.float32)\n",
    "pospar = par\n",
    "sympar = par\n",
    "print(par.shape)"
   ]
  },
  {
   "cell_type": "code",
   "execution_count": 10,
   "metadata": {},
   "outputs": [],
   "source": [
    "epipar = tf.constant(np.array([[1.8,  5.0E-08,0.1, 0.001,0.999]], dtype=np.float32))"
   ]
  },
  {
   "cell_type": "code",
   "execution_count": null,
   "metadata": {},
   "outputs": [
    {
     "name": "stdout",
     "output_type": "stream",
     "text": [
      "(1, 149, 2384)\n"
     ]
    }
   ],
   "source": [
    "ll = loglike.__call__(test_data,epipar, vpar, pospar, sympar)"
   ]
  }
 ],
 "metadata": {
  "kernelspec": {
   "display_name": "Python 3",
   "language": "python",
   "name": "python3"
  },
  "language_info": {
   "codemirror_mode": {
    "name": "ipython",
    "version": 3
   },
   "file_extension": ".py",
   "mimetype": "text/x-python",
   "name": "python",
   "nbconvert_exporter": "python",
   "pygments_lexer": "ipython3",
   "version": "3.7.4"
  }
 },
 "nbformat": 4,
 "nbformat_minor": 2
}
