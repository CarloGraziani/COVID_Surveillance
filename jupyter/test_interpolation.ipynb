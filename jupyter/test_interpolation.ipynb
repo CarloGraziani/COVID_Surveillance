{
 "cells": [
  {
   "cell_type": "code",
   "execution_count": 4,
   "metadata": {},
   "outputs": [
    {
     "name": "stdout",
     "output_type": "stream",
     "text": [
      "[[ 1.         1.8999999  6.6       19.3      ]]\n",
      "tf.Tensor([[[1.9000208 2.4016    2.7198997 6.59992  ]]], shape=(1, 1, 4), dtype=float32)\n"
     ]
    }
   ],
   "source": [
    "import numpy as np\n",
    "import tensorflow as tf\n",
    "import sys\n",
    "sys.path.append(\"..\")\n",
    "from Test_Likelihood import cubic_interpolation as ci\n",
    "\n",
    "x=np.arange(4.0,dtype=np.float32).reshape((1,4))\n",
    "\n",
    "coef=np.array([[1.0,0.4,-0.2,0.7]], dtype=np.float32)\n",
    "fn = lambda xx:  np.sum(np.array([xx**ind for ind in range(coef.shape[-1])]).T * coef, axis=-1).T\n",
    "\n",
    "fvals= fn(x)\n",
    "print (fvals)\n",
    "\n",
    "times = np.array([[1.00001,1.2,1.3, 1.99999]], dtype=np.float32)\n",
    "times = tf.constant(times)\n",
    "\n",
    "ifv = ci(times, 0.0, 1.0, fvals)\n",
    "print(ifv)"
   ]
  }
 ],
 "metadata": {
  "kernelspec": {
   "display_name": "Python 3",
   "language": "python",
   "name": "python3"
  },
  "language_info": {
   "codemirror_mode": {
    "name": "ipython",
    "version": 3
   },
   "file_extension": ".py",
   "mimetype": "text/x-python",
   "name": "python",
   "nbconvert_exporter": "python",
   "pygments_lexer": "ipython3",
   "version": "3.6.10"
  },
  "latex_envs": {
   "LaTeX_envs_menu_present": true,
   "autoclose": false,
   "autocomplete": true,
   "bibliofile": "biblio.bib",
   "cite_by": "apalike",
   "current_citInitial": 1,
   "eqLabelWithNumbers": true,
   "eqNumInitial": 1,
   "hotkeys": {
    "equation": "Ctrl-E",
    "itemize": "Ctrl-I"
   },
   "labels_anchors": false,
   "latex_user_defs": false,
   "report_style_numbering": false,
   "user_envs_cfg": false
  }
 },
 "nbformat": 4,
 "nbformat_minor": 2
}
