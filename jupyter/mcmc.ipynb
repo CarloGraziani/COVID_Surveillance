{
 "cells": [
  {
   "cell_type": "code",
   "execution_count": null,
   "metadata": {},
   "outputs": [],
   "source": [
    "import functools\n",
    "import sys\n",
    "import math\n",
    "import scipy.io\n",
    "sys.path.append(\"..\")\n",
    "import matplotlib.pyplot as plt\n",
    "import numpy as np\n",
    "\n",
    "import tensorflow.compat.v2 as tf\n",
    "tf.enable_v2_behavior()\n",
    "import tensorflow_probability as tfp\n",
    "\n",
    "import Test_Likelihood as tl\n",
    "import ODE_Dynamics as od\n",
    "import Positive_Symptom_fn as fn\n",
    "\n",
    "from functools import partial\n",
    "\n",
    "tfd = tfp.distributions\n",
    "tfb = tfp.bijectors"
   ]
  },
  {
   "cell_type": "code",
   "execution_count": null,
   "metadata": {},
   "outputs": [],
   "source": [
    "data = scipy.io.loadmat('../data/test_data_simulation.mat')\n",
    "x = tf.cast(data['data_simulation'],dtype = tf.float32)\n",
    "test_data = np.reshape(\n",
    "      x, x.shape)\n",
    "test_data = tf.transpose(test_data)[0:10,]\n",
    "#print(test_data[0:10,])"
   ]
  },
  {
   "cell_type": "code",
   "execution_count": null,
   "metadata": {},
   "outputs": [],
   "source": [
    "# Joint log-likelihood\n",
    "\n",
    "def joint_log_prob(test_data, R0):\n",
    "    vdyn_ode_fn = od.ViralDynamics\n",
    "    positive_fn = fn.proba_pos_sym(170306.4 * 1E-5).positive_fn\n",
    "    symptom_fn = fn.proba_pos_sym(170306.4 * 1E-5).symptom_fn\n",
    "    prob_s_ibar = 0.1\n",
    "    mu_b, sigma_b = 5, 1\n",
    "    beta = np.random.normal(mu_b, sigma_b, 1)\n",
    "    L = 0.0025/beta\n",
    "    V0 = 1E3\n",
    "    X0 = 1E6\n",
    "    Y0 = V0\n",
    "    par=tf.constant(np.array([[L,0.01,beta*1E-7,0.5,20,10, V0, X0, Y0]], dtype=np.float32))\n",
    "    vpar = par\n",
    "    pospar = par\n",
    "    sympar = par\n",
    "    sample_size = 1166\n",
    "    k = 1\n",
    "    index = 1\n",
    "    mu_b, sigma_b = 5, 1\n",
    "    beta = np.random.normal(mu_b, sigma_b, 1)   #\"rate at which virus infects host cells\"\n",
    "    L = 0.0025/beta\n",
    "    par=np.array([[L,0.01,beta*1E-7,0.5,20.0,10.0]])\n",
    "    V0 = np.random.normal(1E3, 1E2, 1)\n",
    "    X0 = 1E6\n",
    "    Y0 = V0\n",
    "    init_state=(np.array([[V0,X0,Y0]], dtype=np.float32))\n",
    "\n",
    "    while index <= sample_size - 1:\n",
    "        beta = np.random.normal(mu_b, sigma_b, 1)   #\"rate at which virus infects host cells\"\n",
    "        L = 0.0025/beta\n",
    "        par_new=np.array([[L,0.01,beta*1E-7,0.5,20.0,10.0]])\n",
    "        par = np.concatenate((par, par_new), axis = 0)\n",
    "        V0 = np.random.normal(1E3, 1E2, 1)\n",
    "        X0 = 1E6\n",
    "        Y0 = V0\n",
    "        init_state_new=(np.array([[V0,X0,Y0]], dtype=np.float32))\n",
    "        init_state = np.concatenate((init_state, init_state_new), 0)\n",
    "\n",
    "        index +=1\n",
    "        \n",
    "\n",
    "    vpar = tf.constant(par, dtype=tf.float32)\n",
    "    pospar = par\n",
    "    sympar = par\n",
    "\n",
    "    epipar = tf.constant(np.array([[R0, 5.0E-08,0.1, 0.001, 0.999]], dtype=np.float32))\n",
    "\n",
    "    loglike = tl.loglik(test_data, vdyn_ode_fn, positive_fn, symptom_fn, prob_s_ibar, prob_fp=0.0, Epi_Model=od.SIR,\n",
    "                 duration= 20.0, Epi_cadence=0.5, Vir_cadence=0.0625)\n",
    "    ll,pp = loglike.__call__(test_data, epipar, vpar, pospar, sympar)\n",
    "    ll = ll - math.log(R0)\n",
    "    return ll\n"
   ]
  },
  {
   "cell_type": "code",
   "execution_count": null,
   "metadata": {},
   "outputs": [],
   "source": [
    "joint_log_prob(test_data, R0 = 1.8)"
   ]
  },
  {
   "cell_type": "code",
   "execution_count": null,
   "metadata": {},
   "outputs": [],
   "source": [
    "# Compute log_lik \n",
    "# Impute things we don't want to sample, eg. observations\n",
    "\n",
    "unnormalized_posterior_log_prob = partial(joint_log_prob, test_data)\n"
   ]
  },
  {
   "cell_type": "code",
   "execution_count": null,
   "metadata": {},
   "outputs": [],
   "source": [
    "# Initialize parameters\n",
    "r0 = 1.8\n",
    "# nu0 = 0.1; i0 = 0.001; s0 = 0.999\n",
    "initial_state = [r0]\n",
    "#, nu0, i0, s0]"
   ]
  },
  {
   "cell_type": "code",
   "execution_count": null,
   "metadata": {},
   "outputs": [],
   "source": [
    "# Transform all parameters so that parameter spaces are unconstrained\n",
    "# Every parameter needs a bijector, might be 'Identity'\n",
    "unconstraining_bijectors = [\n",
    "    tfb.Log()\n",
    "]\n",
    "#    tfb.Invert(tfb.Sigmoid()),\n",
    "#    tfb.Invert(tfb.Sigmoid()\n",
    "#    ]"
   ]
  },
  {
   "cell_type": "code",
   "execution_count": null,
   "metadata": {},
   "outputs": [],
   "source": [
    "#@tf.function(autograph=False)\n",
    "def sample():\n",
    "    return tfp.mcmc.sample_chain(\n",
    "        num_results = 1000,\n",
    "        num_burnin_steps = 500,\n",
    "        current_state = initial_state,\n",
    "        kernel = tfp.mcmc.SimpleStepSizeAdaptation(\n",
    "            tfp.mcmc.TransformedTransitionKernel(\n",
    "                inner_kernel = tfp.mcmc.HamiltonianMonteCarlo(\n",
    "                    target_log_prob_fn = unnormalized_posterior_log_prob,\n",
    "                     step_size = 0.065,\n",
    "                     num_leapfrog_steps = 2),\n",
    "                bijector = unconstraining_bijectors),\n",
    "             num_adaptation_steps = 400),\n",
    "        trace_fn=lambda _, pkr: pkr.inner_results.inner_results.is_accepted)"
   ]
  },
  {
   "cell_type": "code",
   "execution_count": null,
   "metadata": {},
   "outputs": [],
   "source": [
    "[R0], is_accepted = sample()\n",
    "# [R0, nu, i, s]"
   ]
  },
  {
   "cell_type": "code",
   "execution_count": null,
   "metadata": {},
   "outputs": [],
   "source": [
    "# Compute posterior means of Epidemic parameters\n",
    "\n",
    "acceptance_rate = tf.reduce_mean(tf.cast(is_accepted, dtype=tf.float32)).numpy()\n",
    "mean_R0 = tf.reduce_mean(R0, axis=0).numpy()\n",
    "#mean_nu = tf.reduce_mean(nu, axis=0).numpy()\n"
   ]
  },
  {
   "cell_type": "code",
   "execution_count": null,
   "metadata": {},
   "outputs": [],
   "source": [
    "print('acceptance_rate:', acceptance_rate)\n",
    "print('avg basic reproduction number:', mean_R0)\n",
    "#print('avg recovery rate:', mean_nu)\n",
    "#print('avg infected', mean_i)\n",
    "#print('avg susceptible', mean_s)"
   ]
  },
  {
   "cell_type": "code",
   "execution_count": null,
   "metadata": {},
   "outputs": [],
   "source": [
    "print(R0)"
   ]
  },
  {
   "cell_type": "code",
   "execution_count": null,
   "metadata": {},
   "outputs": [],
   "source": [
    "import matplotlib.pyplot as plt\n",
    "t = list(range(len(R0)))\n",
    "plt.plot(t, R0.numpy(), \"b-\")\n",
    "plt.title(\"MCMC Draws of R0 (True value = 1.8)\")\n",
    "plt.savefig('mcmc_plot_R0.png', dpi=300, bbox_inches='tight')"
   ]
  },
  {
   "cell_type": "code",
   "execution_count": null,
   "metadata": {},
   "outputs": [],
   "source": []
  },
  {
   "cell_type": "code",
   "execution_count": null,
   "metadata": {},
   "outputs": [],
   "source": []
  }
 ],
 "metadata": {
  "kernelspec": {
   "display_name": "Python 3",
   "language": "python",
   "name": "python3"
  },
  "language_info": {
   "codemirror_mode": {
    "name": "ipython",
    "version": 3
   },
   "file_extension": ".py",
   "mimetype": "text/x-python",
   "name": "python",
   "nbconvert_exporter": "python",
   "pygments_lexer": "ipython3",
   "version": "3.7.6"
  }
 },
 "nbformat": 4,
 "nbformat_minor": 4
}
