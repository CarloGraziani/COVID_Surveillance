{
 "cells": [
  {
   "cell_type": "code",
   "execution_count": 1,
   "metadata": {},
   "outputs": [],
   "source": [
    "import tensorflow as tf\n",
    "import numpy as np\n",
    "import tensorflow_probability as tfp\n",
    "import sys\n",
    "sys.path.append('..')\n",
    "import ODE_Dynamics as od"
   ]
  },
  {
   "cell_type": "code",
   "execution_count": 2,
   "metadata": {},
   "outputs": [],
   "source": [
    "# Equillibrium: (alpha*gamma/beta*c, L/alpha - gamma*mu/beta*c, c*L/alpha*gamma - mu/beta)\n",
    "# When beta*c*L = alpha*gamma*mu,(L/mu,0,0) is either a saddle point or an asymptotically stable node.\n",
    "# Otherwise eventually there remain infected cells, virions and uninfected cells in equilibrium.\n",
    "\n",
    "par=tf.constant(np.array([[5E3,0.01,5E-7,0.5,20,10]], dtype=np.float32))\n",
    "mod = od.ViralDynamics(par)\n",
    "V0 = 1E4\n",
    "X0 = 1E6\n",
    "Y0 = 1E4\n",
    "init_state=tf.constant(np.array([[V0,X0,Y0]], dtype=np.float32))\n",
    "init_time=tf.constant(0.0)\n",
    "soln_times=tf.constant(np.linspace(0.0,50.0,num=500,dtype=np.float32))\n"
   ]
  },
  {
   "cell_type": "code",
   "execution_count": 3,
   "metadata": {},
   "outputs": [
    {
     "name": "stdout",
     "output_type": "stream",
     "text": [
      "_DopriDiagnostics(num_ode_fn_evaluations=<tf.Tensor: shape=(), dtype=int32, numpy=1602>, num_jacobian_evaluations=<tf.Tensor: shape=(), dtype=int32, numpy=0>, num_matrix_factorizations=<tf.Tensor: shape=(), dtype=int32, numpy=0>, status=<tf.Tensor: shape=(), dtype=int32, numpy=0>)\n"
     ]
    }
   ],
   "source": [
    "dp = tfp.math.ode.DormandPrince()\n",
    "results = dp.solve(mod.RHS, init_time, init_state, solution_times=soln_times)\n",
    "print(results.diagnostics)"
   ]
  },
  {
   "cell_type": "code",
   "execution_count": 4,
   "metadata": {},
   "outputs": [
    {
     "name": "stdout",
     "output_type": "stream",
     "text": [
      "_DopriDiagnostics(num_ode_fn_evaluations=<tf.Tensor: shape=(), dtype=int32, numpy=1602>, num_jacobian_evaluations=<tf.Tensor: shape=(), dtype=int32, numpy=0>, num_matrix_factorizations=<tf.Tensor: shape=(), dtype=int32, numpy=0>, status=<tf.Tensor: shape=(), dtype=int32, numpy=0>)\n",
      "printing v\n",
      "tf.Tensor(\n",
      "[1.11116528e+03 2.40394751e+03 2.93482446e+03 3.56582690e+03\n",
      " 4.32081592e+03 5.23373730e+03 6.31748926e+03 7.59551221e+03\n",
      " 9.14230078e+03 1.09441621e+04 1.30473652e+04 1.55404004e+04\n",
      " 1.84535000e+04 2.17856738e+04 2.56724375e+04 3.01416562e+04\n",
      " 3.51617578e+04 4.08368477e+04 4.72671289e+04 5.43072344e+04\n",
      " 6.19652227e+04 7.03991328e+04 7.92609922e+04 8.84432109e+04\n",
      " 9.81222500e+04 1.07693828e+05 1.16953953e+05 1.26085984e+05\n",
      " 1.34280125e+05 1.41399656e+05 1.47632047e+05 1.52174344e+05\n",
      " 1.55195984e+05 1.56801531e+05 1.56514703e+05 1.54878953e+05\n",
      " 1.51718469e+05 1.47163422e+05 1.41860062e+05 1.35255016e+05\n",
      " 1.28218102e+05 1.20906094e+05 1.12759656e+05 1.05070594e+05\n",
      " 9.72900000e+04 8.93187188e+04 8.20787734e+04 7.48894375e+04\n",
      " 6.80784375e+04 6.17991680e+04 5.57560352e+04 5.03568516e+04\n",
      " 4.52370195e+04 4.05214375e+04 3.63747188e+04 3.24144570e+04\n",
      " 2.89234141e+04 2.57662148e+04 2.28659219e+04 2.03303398e+04\n",
      " 1.80087148e+04 1.59494043e+04 1.41043682e+04 1.24518906e+04\n",
      " 1.10101846e+04 9.68227246e+03 8.54353613e+03 7.52805859e+03\n",
      " 6.60774219e+03 5.82312061e+03 5.10377490e+03 4.47670801e+03\n",
      " 3.93330762e+03 3.43665039e+03 3.01411255e+03 2.63628296e+03\n",
      " 2.30349951e+03 2.01541992e+03 1.75661804e+03 1.53563806e+03\n",
      " 1.33648401e+03 1.16616846e+03 1.01731403e+03 8.83000732e+02\n",
      " 7.70473938e+02 6.69663818e+02 5.81908691e+02 5.06008545e+02\n",
      " 4.38468933e+02 3.81096313e+02 3.30402832e+02 2.86143463e+02\n",
      " 2.48208847e+02 2.14478806e+02 1.85878555e+02 1.60702530e+02\n",
      " 1.38840515e+02 1.20005920e+02 1.03527031e+02 8.95007248e+01], shape=(100,), dtype=float32)\n"
     ]
    }
   ],
   "source": [
    "import matplotlib.pyplot as plt\n",
    "fig = plt.figure()\n",
    "plt.xlabel('Time')\n",
    "plt.ylabel('Number of virus particles')\n",
    "plt.title(\"Viral Dynamics of 5 Patients\")\n",
    "sample_size = 1\n",
    "index = 1\n",
    "mu_b, sigma_b = 5, 1\n",
    "\n",
    "while index <= sample_size:\n",
    "    beta = np.random.normal(mu_b, sigma_b, 1)   #\"rate at which virus infects host cells\"\n",
    "    L = 0.0025/beta\n",
    "    par=tf.constant(np.array([[L,0.01,beta*1E-7,0.5,20,10]], dtype=np.float32))\n",
    "    mod = od.ViralDynamics(par)\n",
    "    V0 = np.random.normal(1E3, 1E2, 1)\n",
    "    X0 = 1E6\n",
    "    Y0 = V0\n",
    "    init_state=tf.constant(np.array([[V0,X0,Y0]], dtype=np.float32))\n",
    "    init_time=tf.constant(0.0)\n",
    "    soln_times=tf.constant(np.linspace(0.0,50.0,num=100,dtype=np.float32))\n",
    "    \n",
    "    dp = tfp.math.ode.DormandPrince()\n",
    "    results = dp.solve(mod.RHS, init_time, init_state, solution_times=soln_times)\n",
    "    print(results.diagnostics)\n",
    "    \n",
    "    t = results.times ; v = results.states[:,0,0] ;\n",
    "    print(\"printing v\")\n",
    "    print(v)\n",
    "    plt.plot(t, v,\"r-\",linewidth=1)\n",
    "    \n",
    "    index +=1\n",
    "    \n",
    "plt.savefig('multiple_viral_dynamic_5.png', dpi=300, bbox_inches='tight')"
   ]
  },
  {
   "cell_type": "code",
   "execution_count": 8,
   "metadata": {},
   "outputs": [
    {
     "data": {
      "text/plain": [
       "<Figure size 432x288 with 0 Axes>"
      ]
     },
     "metadata": {},
     "output_type": "display_data"
    }
   ],
   "source": [
    "plt.savefig('multiple_viral_dynamic_5.png', dpi=300, bbox_inches='tight')"
   ]
  },
  {
   "cell_type": "code",
   "execution_count": 12,
   "metadata": {},
   "outputs": [
    {
     "name": "stdout",
     "output_type": "stream",
     "text": [
      "printing par\n",
      "tf.Tensor(\n",
      "[[5.1433308e-04 9.9999998e-03 4.8606631e-07 5.0000000e-01 2.0000000e+01\n",
      "  1.0000000e+01]\n",
      " [6.1702699e-04 9.9999998e-03 4.0516863e-07 5.0000000e-01 2.0000000e+01\n",
      "  1.0000000e+01]\n",
      " [4.5335398e-04 9.9999998e-03 5.5144551e-07 5.0000000e-01 2.0000000e+01\n",
      "  1.0000000e+01]\n",
      " [6.3731294e-04 9.9999998e-03 3.9227194e-07 5.0000000e-01 2.0000000e+01\n",
      "  1.0000000e+01]\n",
      " [3.7766987e-04 9.9999998e-03 6.6195378e-07 5.0000000e-01 2.0000000e+01\n",
      "  1.0000000e+01]], shape=(5, 6), dtype=float32)\n",
      "_DopriDiagnostics(num_ode_fn_evaluations=<tf.Tensor: shape=(), dtype=int32, numpy=1602>, num_jacobian_evaluations=<tf.Tensor: shape=(), dtype=int32, numpy=0>, num_matrix_factorizations=<tf.Tensor: shape=(), dtype=int32, numpy=0>, status=<tf.Tensor: shape=(), dtype=int32, numpy=0>)\n"
     ]
    },
    {
     "data": {
      "image/png": "[encoded data removed]",
      "text/plain": [
       "<Figure size 432x288 with 1 Axes>"
      ]
     },
     "metadata": {
      "needs_background": "light"
     },
     "output_type": "display_data"
    }
   ],
   "source": [
    "import matplotlib.pyplot as plt\n",
    "fig = plt.figure()\n",
    "plt.xlabel('Time')\n",
    "plt.ylabel('Number of virus particles')\n",
    "plt.title(\"Viral Dynamics of 5 Patients\")\n",
    "sample_size = 4\n",
    "index = 1\n",
    "mu_b, sigma_b = 5, 1\n",
    "beta = np.random.normal(mu_b, sigma_b, 1)   #\"rate at which virus infects host cells\"\n",
    "L = 0.0025/beta\n",
    "par=np.array([[L,0.01,beta*1E-7,0.5,20.0,10.0]])\n",
    "V0 = np.random.normal(1E3, 1E2, 1)\n",
    "X0 = 1E6\n",
    "Y0 = V0\n",
    "init_state=(np.array([[V0,X0,Y0]], dtype=np.float32))\n",
    "\n",
    "while index <= sample_size:\n",
    "    beta = np.random.normal(mu_b, sigma_b, 1)   #\"rate at which virus infects host cells\"\n",
    "    L = 0.0025/beta\n",
    "    par_new=np.array([[L,0.01,beta*1E-7,0.5,20.0,10.0]])\n",
    "    par = np.concatenate((par, par_new), axis = 0)\n",
    "    V0 = np.random.normal(1E3, 1E2, 1)\n",
    "    X0 = 1E6\n",
    "    Y0 = V0\n",
    "    init_state_new=(np.array([[V0,X0,Y0]], dtype=np.float32))\n",
    "    init_state = np.concatenate((init_state, init_state_new), 0)\n",
    "    \n",
    "    index +=1\n",
    "\n",
    "par = tf.constant(par, dtype=tf.float32)\n",
    "init_state = tf.constant(init_state, dtype=tf.float32)\n",
    "mod = od.ViralDynamics(par)\n",
    "init_time=tf.constant(0.0)\n",
    "soln_times=tf.constant(np.linspace(0.0,50.0,num=100,dtype=np.float32))\n",
    "    \n",
    "dp = tfp.math.ode.DormandPrince()\n",
    "results = dp.solve(mod.RHS, init_time, init_state, solution_times=soln_times)\n",
    "t = results.times ; v = results.states[...,0] ;\n",
    "plt.plot(t, v,\"r-\",linewidth=1)\n",
    "print(results.diagnostics)\n",
    "plt.savefig('multiple_viral_dynamic_5.png', dpi=300, bbox_inches='tight')"
   ]
  },
  {
   "cell_type": "code",
   "execution_count": null,
   "metadata": {},
   "outputs": [],
   "source": []
  }
 ],
 "metadata": {
  "kernelspec": {
   "display_name": "Python 3",
   "language": "python",
   "name": "python3"
  },
  "language_info": {
   "codemirror_mode": {
    "name": "ipython",
    "version": 3
   },
   "file_extension": ".py",
   "mimetype": "text/x-python",
   "name": "python",
   "nbconvert_exporter": "python",
   "pygments_lexer": "ipython3",
   "version": "3.7.4"
  }
 },
 "nbformat": 4,
 "nbformat_minor": 2
}
